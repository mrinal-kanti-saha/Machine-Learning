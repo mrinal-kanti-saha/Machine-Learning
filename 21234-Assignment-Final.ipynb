{
 "cells": [
  {
   "cell_type": "markdown",
   "id": "3b5c01fb",
   "metadata": {},
   "source": [
    "# Machine Learning Project\n",
    "\n",
    "- Mrinal Kanti Saha (21234)\n",
    "\n",
    "### About Dataset and problem:\n",
    "\n",
    "The Vehicle Insurance business is a multi-billion dollar industry. Every year millions and millions of premiums are paid, and a huge amount of claims also pile up. \n",
    "\n",
    "You have to step into the shoes of a data scientist who is building models to help an insurance company understand which claims are worth rejecting and the claims which should be accepted for reimbursement. \n",
    "\n",
    "You are given a rich dataset consisting of thousands of rows of past records, which you can use to learn more about your customers’ behaviours. For example, you are supposed to create an ML model to look at a case of an insurance claim and decide whether to reject or accept it. \n",
    "\n",
    "Dimensions: (to be added later)\n",
    "\n",
    "    Columns: ['ID', 'AGE', 'GENDER', 'DRIVING_EXPERIENCE', 'EDUCATION', 'INCOME',\n",
    "\n",
    "              'CREDIT_SCORE', 'VEHICLE_OWNERSHIP', 'VEHICLE_YEAR', 'MARRIED',\n",
    "\n",
    "              'CHILDREN', 'POSTAL_CODE', 'ANNUAL_MILEAGE', 'SPEEDING_VIOLATIONS',\n",
    "\n",
    "              'DUIS', 'PAST_ACCIDENTS', 'OUTCOME', 'TYPE_OF_VEHICLE']\n",
    "\n",
    " Learn and predict the OUTCOME variable."
   ]
  },
  {
   "cell_type": "markdown",
   "id": "6ace24af",
   "metadata": {},
   "source": [
    "## Importing modules"
   ]
  },
  {
   "cell_type": "code",
   "execution_count": 1,
   "id": "9db19e8c",
   "metadata": {},
   "outputs": [],
   "source": [
    "import numpy as np\n",
    "import pandas as pd\n",
    "import matplotlib.pyplot as plt\n",
    "import seaborn as sns"
   ]
  },
  {
   "cell_type": "markdown",
   "id": "5ed13b96",
   "metadata": {},
   "source": [
    "## Exploring the data"
   ]
  },
  {
   "cell_type": "code",
   "execution_count": 2,
   "id": "8ac60050",
   "metadata": {},
   "outputs": [],
   "source": [
    "df = pd.read_csv('AnalyticsOlympiad2022Data/AnalyticsOlympiad2022Data/train.csv')"
   ]
  },
  {
   "cell_type": "markdown",
   "id": "ac235299",
   "metadata": {},
   "source": [
    "We have loaded our data. Now, we would like to see how our data looks like."
   ]
  },
  {
   "cell_type": "code",
   "execution_count": 3,
   "id": "934f0d91",
   "metadata": {},
   "outputs": [
    {
     "data": {
      "text/html": [
       "<div>\n",
       "<style scoped>\n",
       "    .dataframe tbody tr th:only-of-type {\n",
       "        vertical-align: middle;\n",
       "    }\n",
       "\n",
       "    .dataframe tbody tr th {\n",
       "        vertical-align: top;\n",
       "    }\n",
       "\n",
       "    .dataframe thead th {\n",
       "        text-align: right;\n",
       "    }\n",
       "</style>\n",
       "<table border=\"1\" class=\"dataframe\">\n",
       "  <thead>\n",
       "    <tr style=\"text-align: right;\">\n",
       "      <th></th>\n",
       "      <th>ID</th>\n",
       "      <th>AGE</th>\n",
       "      <th>GENDER</th>\n",
       "      <th>DRIVING_EXPERIENCE</th>\n",
       "      <th>EDUCATION</th>\n",
       "      <th>INCOME</th>\n",
       "      <th>CREDIT_SCORE</th>\n",
       "      <th>VEHICLE_OWNERSHIP</th>\n",
       "      <th>VEHICLE_YEAR</th>\n",
       "      <th>MARRIED</th>\n",
       "      <th>CHILDREN</th>\n",
       "      <th>POSTAL_CODE</th>\n",
       "      <th>ANNUAL_MILEAGE</th>\n",
       "      <th>SPEEDING_VIOLATIONS</th>\n",
       "      <th>DUIS</th>\n",
       "      <th>PAST_ACCIDENTS</th>\n",
       "      <th>OUTCOME</th>\n",
       "      <th>TYPE_OF_VEHICLE</th>\n",
       "    </tr>\n",
       "  </thead>\n",
       "  <tbody>\n",
       "    <tr>\n",
       "      <th>3465</th>\n",
       "      <td>365982</td>\n",
       "      <td>65+</td>\n",
       "      <td>female</td>\n",
       "      <td>0-9y</td>\n",
       "      <td>high school</td>\n",
       "      <td>upper class</td>\n",
       "      <td>0.528074</td>\n",
       "      <td>1.0</td>\n",
       "      <td>after 2015</td>\n",
       "      <td>1.0</td>\n",
       "      <td>1.0</td>\n",
       "      <td>10238</td>\n",
       "      <td>7000.0</td>\n",
       "      <td>0</td>\n",
       "      <td>0</td>\n",
       "      <td>0</td>\n",
       "      <td>0.0</td>\n",
       "      <td>Sports Car</td>\n",
       "    </tr>\n",
       "    <tr>\n",
       "      <th>12206</th>\n",
       "      <td>5472</td>\n",
       "      <td>65+</td>\n",
       "      <td>male</td>\n",
       "      <td>10-19y</td>\n",
       "      <td>none</td>\n",
       "      <td>upper class</td>\n",
       "      <td>0.491658</td>\n",
       "      <td>0.0</td>\n",
       "      <td>before 2015</td>\n",
       "      <td>1.0</td>\n",
       "      <td>1.0</td>\n",
       "      <td>10238</td>\n",
       "      <td>14000.0</td>\n",
       "      <td>1</td>\n",
       "      <td>0</td>\n",
       "      <td>0</td>\n",
       "      <td>1.0</td>\n",
       "      <td>Sedan</td>\n",
       "    </tr>\n",
       "    <tr>\n",
       "      <th>89587</th>\n",
       "      <td>106237</td>\n",
       "      <td>26-39</td>\n",
       "      <td>male</td>\n",
       "      <td>10-19y</td>\n",
       "      <td>university</td>\n",
       "      <td>working class</td>\n",
       "      <td>0.661839</td>\n",
       "      <td>1.0</td>\n",
       "      <td>before 2015</td>\n",
       "      <td>1.0</td>\n",
       "      <td>1.0</td>\n",
       "      <td>10238</td>\n",
       "      <td>11000.0</td>\n",
       "      <td>0</td>\n",
       "      <td>0</td>\n",
       "      <td>0</td>\n",
       "      <td>0.0</td>\n",
       "      <td>Sports Car</td>\n",
       "    </tr>\n",
       "    <tr>\n",
       "      <th>30811</th>\n",
       "      <td>77040</td>\n",
       "      <td>65+</td>\n",
       "      <td>male</td>\n",
       "      <td>20-29y</td>\n",
       "      <td>university</td>\n",
       "      <td>upper class</td>\n",
       "      <td>0.609223</td>\n",
       "      <td>1.0</td>\n",
       "      <td>before 2015</td>\n",
       "      <td>1.0</td>\n",
       "      <td>0.0</td>\n",
       "      <td>34311</td>\n",
       "      <td>12000.0</td>\n",
       "      <td>1</td>\n",
       "      <td>0</td>\n",
       "      <td>0</td>\n",
       "      <td>0.0</td>\n",
       "      <td>HatchBack</td>\n",
       "    </tr>\n",
       "    <tr>\n",
       "      <th>23119</th>\n",
       "      <td>358006</td>\n",
       "      <td>40-64</td>\n",
       "      <td>male</td>\n",
       "      <td>0-9y</td>\n",
       "      <td>high school</td>\n",
       "      <td>upper class</td>\n",
       "      <td>0.671600</td>\n",
       "      <td>1.0</td>\n",
       "      <td>before 2015</td>\n",
       "      <td>1.0</td>\n",
       "      <td>1.0</td>\n",
       "      <td>34315</td>\n",
       "      <td>14000.0</td>\n",
       "      <td>0</td>\n",
       "      <td>0</td>\n",
       "      <td>0</td>\n",
       "      <td>0.0</td>\n",
       "      <td>Sedan</td>\n",
       "    </tr>\n",
       "  </tbody>\n",
       "</table>\n",
       "</div>"
      ],
      "text/plain": [
       "           ID    AGE  GENDER DRIVING_EXPERIENCE    EDUCATION         INCOME  \\\n",
       "3465   365982    65+  female               0-9y  high school    upper class   \n",
       "12206    5472    65+    male             10-19y         none    upper class   \n",
       "89587  106237  26-39    male             10-19y   university  working class   \n",
       "30811   77040    65+    male             20-29y   university    upper class   \n",
       "23119  358006  40-64    male               0-9y  high school    upper class   \n",
       "\n",
       "       CREDIT_SCORE  VEHICLE_OWNERSHIP VEHICLE_YEAR  MARRIED  CHILDREN  \\\n",
       "3465       0.528074                1.0   after 2015      1.0       1.0   \n",
       "12206      0.491658                0.0  before 2015      1.0       1.0   \n",
       "89587      0.661839                1.0  before 2015      1.0       1.0   \n",
       "30811      0.609223                1.0  before 2015      1.0       0.0   \n",
       "23119      0.671600                1.0  before 2015      1.0       1.0   \n",
       "\n",
       "       POSTAL_CODE  ANNUAL_MILEAGE  SPEEDING_VIOLATIONS  DUIS  PAST_ACCIDENTS  \\\n",
       "3465         10238          7000.0                    0     0               0   \n",
       "12206        10238         14000.0                    1     0               0   \n",
       "89587        10238         11000.0                    0     0               0   \n",
       "30811        34311         12000.0                    1     0               0   \n",
       "23119        34315         14000.0                    0     0               0   \n",
       "\n",
       "       OUTCOME TYPE_OF_VEHICLE  \n",
       "3465       0.0      Sports Car  \n",
       "12206      1.0           Sedan  \n",
       "89587      0.0      Sports Car  \n",
       "30811      0.0       HatchBack  \n",
       "23119      0.0           Sedan  "
      ]
     },
     "execution_count": 3,
     "metadata": {},
     "output_type": "execute_result"
    }
   ],
   "source": [
    "df.sample(5)"
   ]
  },
  {
   "cell_type": "markdown",
   "id": "f53ded26",
   "metadata": {},
   "source": [
    "Let's see the size of the dataset."
   ]
  },
  {
   "cell_type": "code",
   "execution_count": 4,
   "id": "24bebe33",
   "metadata": {},
   "outputs": [
    {
     "data": {
      "text/plain": [
       "(105000, 18)"
      ]
     },
     "execution_count": 4,
     "metadata": {},
     "output_type": "execute_result"
    }
   ],
   "source": [
    "df.shape"
   ]
  },
  {
   "cell_type": "markdown",
   "id": "428506f1",
   "metadata": {},
   "source": [
    "Basic numerical summary of the dataframe :-"
   ]
  },
  {
   "cell_type": "code",
   "execution_count": 5,
   "id": "4cdf0df1",
   "metadata": {},
   "outputs": [
    {
     "data": {
      "text/html": [
       "<div>\n",
       "<style scoped>\n",
       "    .dataframe tbody tr th:only-of-type {\n",
       "        vertical-align: middle;\n",
       "    }\n",
       "\n",
       "    .dataframe tbody tr th {\n",
       "        vertical-align: top;\n",
       "    }\n",
       "\n",
       "    .dataframe thead th {\n",
       "        text-align: right;\n",
       "    }\n",
       "</style>\n",
       "<table border=\"1\" class=\"dataframe\">\n",
       "  <thead>\n",
       "    <tr style=\"text-align: right;\">\n",
       "      <th></th>\n",
       "      <th>ID</th>\n",
       "      <th>CREDIT_SCORE</th>\n",
       "      <th>VEHICLE_OWNERSHIP</th>\n",
       "      <th>MARRIED</th>\n",
       "      <th>CHILDREN</th>\n",
       "      <th>POSTAL_CODE</th>\n",
       "      <th>ANNUAL_MILEAGE</th>\n",
       "      <th>SPEEDING_VIOLATIONS</th>\n",
       "      <th>DUIS</th>\n",
       "      <th>PAST_ACCIDENTS</th>\n",
       "      <th>OUTCOME</th>\n",
       "    </tr>\n",
       "  </thead>\n",
       "  <tbody>\n",
       "    <tr>\n",
       "      <th>count</th>\n",
       "      <td>105000.000000</td>\n",
       "      <td>105000.000000</td>\n",
       "      <td>105000.000000</td>\n",
       "      <td>105000.000000</td>\n",
       "      <td>105000.000000</td>\n",
       "      <td>105000.000000</td>\n",
       "      <td>105000.000000</td>\n",
       "      <td>105000.000000</td>\n",
       "      <td>105000.000000</td>\n",
       "      <td>105000.000000</td>\n",
       "      <td>105000.000000</td>\n",
       "    </tr>\n",
       "    <tr>\n",
       "      <th>mean</th>\n",
       "      <td>394931.295905</td>\n",
       "      <td>0.602173</td>\n",
       "      <td>0.827038</td>\n",
       "      <td>0.584143</td>\n",
       "      <td>0.520000</td>\n",
       "      <td>18045.439267</td>\n",
       "      <td>11061.228571</td>\n",
       "      <td>0.675676</td>\n",
       "      <td>0.129733</td>\n",
       "      <td>0.549314</td>\n",
       "      <td>0.422648</td>\n",
       "    </tr>\n",
       "    <tr>\n",
       "      <th>std</th>\n",
       "      <td>279694.106053</td>\n",
       "      <td>0.138045</td>\n",
       "      <td>0.378216</td>\n",
       "      <td>0.492871</td>\n",
       "      <td>0.499602</td>\n",
       "      <td>16709.040449</td>\n",
       "      <td>2972.355482</td>\n",
       "      <td>1.383678</td>\n",
       "      <td>0.589714</td>\n",
       "      <td>1.402809</td>\n",
       "      <td>0.493983</td>\n",
       "    </tr>\n",
       "    <tr>\n",
       "      <th>min</th>\n",
       "      <td>101.000000</td>\n",
       "      <td>0.066880</td>\n",
       "      <td>0.000000</td>\n",
       "      <td>0.000000</td>\n",
       "      <td>0.000000</td>\n",
       "      <td>10238.000000</td>\n",
       "      <td>2000.000000</td>\n",
       "      <td>0.000000</td>\n",
       "      <td>0.000000</td>\n",
       "      <td>0.000000</td>\n",
       "      <td>0.000000</td>\n",
       "    </tr>\n",
       "    <tr>\n",
       "      <th>25%</th>\n",
       "      <td>156351.750000</td>\n",
       "      <td>0.514876</td>\n",
       "      <td>1.000000</td>\n",
       "      <td>0.000000</td>\n",
       "      <td>0.000000</td>\n",
       "      <td>10238.000000</td>\n",
       "      <td>9000.000000</td>\n",
       "      <td>0.000000</td>\n",
       "      <td>0.000000</td>\n",
       "      <td>0.000000</td>\n",
       "      <td>0.000000</td>\n",
       "    </tr>\n",
       "    <tr>\n",
       "      <th>50%</th>\n",
       "      <td>354679.500000</td>\n",
       "      <td>0.601112</td>\n",
       "      <td>1.000000</td>\n",
       "      <td>1.000000</td>\n",
       "      <td>1.000000</td>\n",
       "      <td>10238.000000</td>\n",
       "      <td>11000.000000</td>\n",
       "      <td>0.000000</td>\n",
       "      <td>0.000000</td>\n",
       "      <td>0.000000</td>\n",
       "      <td>0.000000</td>\n",
       "    </tr>\n",
       "    <tr>\n",
       "      <th>75%</th>\n",
       "      <td>598602.250000</td>\n",
       "      <td>0.703216</td>\n",
       "      <td>1.000000</td>\n",
       "      <td>1.000000</td>\n",
       "      <td>1.000000</td>\n",
       "      <td>22957.750000</td>\n",
       "      <td>13000.000000</td>\n",
       "      <td>1.000000</td>\n",
       "      <td>0.000000</td>\n",
       "      <td>0.000000</td>\n",
       "      <td>1.000000</td>\n",
       "    </tr>\n",
       "    <tr>\n",
       "      <th>max</th>\n",
       "      <td>999976.000000</td>\n",
       "      <td>0.954075</td>\n",
       "      <td>1.000000</td>\n",
       "      <td>1.000000</td>\n",
       "      <td>1.000000</td>\n",
       "      <td>92101.000000</td>\n",
       "      <td>21000.000000</td>\n",
       "      <td>20.000000</td>\n",
       "      <td>6.000000</td>\n",
       "      <td>15.000000</td>\n",
       "      <td>1.000000</td>\n",
       "    </tr>\n",
       "  </tbody>\n",
       "</table>\n",
       "</div>"
      ],
      "text/plain": [
       "                  ID   CREDIT_SCORE  VEHICLE_OWNERSHIP        MARRIED  \\\n",
       "count  105000.000000  105000.000000      105000.000000  105000.000000   \n",
       "mean   394931.295905       0.602173           0.827038       0.584143   \n",
       "std    279694.106053       0.138045           0.378216       0.492871   \n",
       "min       101.000000       0.066880           0.000000       0.000000   \n",
       "25%    156351.750000       0.514876           1.000000       0.000000   \n",
       "50%    354679.500000       0.601112           1.000000       1.000000   \n",
       "75%    598602.250000       0.703216           1.000000       1.000000   \n",
       "max    999976.000000       0.954075           1.000000       1.000000   \n",
       "\n",
       "            CHILDREN    POSTAL_CODE  ANNUAL_MILEAGE  SPEEDING_VIOLATIONS  \\\n",
       "count  105000.000000  105000.000000   105000.000000        105000.000000   \n",
       "mean        0.520000   18045.439267    11061.228571             0.675676   \n",
       "std         0.499602   16709.040449     2972.355482             1.383678   \n",
       "min         0.000000   10238.000000     2000.000000             0.000000   \n",
       "25%         0.000000   10238.000000     9000.000000             0.000000   \n",
       "50%         1.000000   10238.000000    11000.000000             0.000000   \n",
       "75%         1.000000   22957.750000    13000.000000             1.000000   \n",
       "max         1.000000   92101.000000    21000.000000            20.000000   \n",
       "\n",
       "                DUIS  PAST_ACCIDENTS        OUTCOME  \n",
       "count  105000.000000   105000.000000  105000.000000  \n",
       "mean        0.129733        0.549314       0.422648  \n",
       "std         0.589714        1.402809       0.493983  \n",
       "min         0.000000        0.000000       0.000000  \n",
       "25%         0.000000        0.000000       0.000000  \n",
       "50%         0.000000        0.000000       0.000000  \n",
       "75%         0.000000        0.000000       1.000000  \n",
       "max         6.000000       15.000000       1.000000  "
      ]
     },
     "execution_count": 5,
     "metadata": {},
     "output_type": "execute_result"
    }
   ],
   "source": [
    "df.describe()"
   ]
  },
  {
   "cell_type": "markdown",
   "id": "f0adb448",
   "metadata": {},
   "source": [
    "## Data Cleaning\n",
    "- Removing null values\n",
    "- Removing duplicates"
   ]
  },
  {
   "cell_type": "code",
   "execution_count": 6,
   "id": "76842286",
   "metadata": {},
   "outputs": [],
   "source": [
    "# dropping column ID\n",
    "df.drop(columns=['ID'], inplace=True)"
   ]
  },
  {
   "cell_type": "code",
   "execution_count": 7,
   "id": "2ba783af",
   "metadata": {},
   "outputs": [
    {
     "name": "stdout",
     "output_type": "stream",
     "text": [
      "<class 'pandas.core.frame.DataFrame'>\n",
      "RangeIndex: 105000 entries, 0 to 104999\n",
      "Data columns (total 17 columns):\n",
      " #   Column               Non-Null Count   Dtype  \n",
      "---  ------               --------------   -----  \n",
      " 0   AGE                  105000 non-null  object \n",
      " 1   GENDER               105000 non-null  object \n",
      " 2   DRIVING_EXPERIENCE   105000 non-null  object \n",
      " 3   EDUCATION            105000 non-null  object \n",
      " 4   INCOME               105000 non-null  object \n",
      " 5   CREDIT_SCORE         105000 non-null  float64\n",
      " 6   VEHICLE_OWNERSHIP    105000 non-null  float64\n",
      " 7   VEHICLE_YEAR         105000 non-null  object \n",
      " 8   MARRIED              105000 non-null  float64\n",
      " 9   CHILDREN             105000 non-null  float64\n",
      " 10  POSTAL_CODE          105000 non-null  int64  \n",
      " 11  ANNUAL_MILEAGE       105000 non-null  float64\n",
      " 12  SPEEDING_VIOLATIONS  105000 non-null  int64  \n",
      " 13  DUIS                 105000 non-null  int64  \n",
      " 14  PAST_ACCIDENTS       105000 non-null  int64  \n",
      " 15  OUTCOME              105000 non-null  float64\n",
      " 16  TYPE_OF_VEHICLE      105000 non-null  object \n",
      "dtypes: float64(6), int64(4), object(7)\n",
      "memory usage: 13.6+ MB\n"
     ]
    }
   ],
   "source": [
    "df.info()"
   ]
  },
  {
   "cell_type": "code",
   "execution_count": 8,
   "id": "239ba1b5",
   "metadata": {},
   "outputs": [
    {
     "data": {
      "text/plain": [
       "AGE                    0\n",
       "GENDER                 0\n",
       "DRIVING_EXPERIENCE     0\n",
       "EDUCATION              0\n",
       "INCOME                 0\n",
       "CREDIT_SCORE           0\n",
       "VEHICLE_OWNERSHIP      0\n",
       "VEHICLE_YEAR           0\n",
       "MARRIED                0\n",
       "CHILDREN               0\n",
       "POSTAL_CODE            0\n",
       "ANNUAL_MILEAGE         0\n",
       "SPEEDING_VIOLATIONS    0\n",
       "DUIS                   0\n",
       "PAST_ACCIDENTS         0\n",
       "OUTCOME                0\n",
       "TYPE_OF_VEHICLE        0\n",
       "dtype: int64"
      ]
     },
     "execution_count": 8,
     "metadata": {},
     "output_type": "execute_result"
    }
   ],
   "source": [
    "df.isna().sum()"
   ]
  },
  {
   "cell_type": "markdown",
   "id": "c5504284",
   "metadata": {},
   "source": [
    "Since, we have no null values, we will proceed with with removing duplicates."
   ]
  },
  {
   "cell_type": "code",
   "execution_count": 9,
   "id": "ca4ad39a",
   "metadata": {},
   "outputs": [
    {
     "data": {
      "text/plain": [
       "0"
      ]
     },
     "execution_count": 9,
     "metadata": {},
     "output_type": "execute_result"
    }
   ],
   "source": [
    "df.duplicated().sum()"
   ]
  },
  {
   "cell_type": "markdown",
   "id": "09002894",
   "metadata": {},
   "source": [
    "Again, we also have no duplicates."
   ]
  },
  {
   "cell_type": "markdown",
   "id": "fbb5eccf",
   "metadata": {},
   "source": [
    "Let's see how out target feature is correlated with the other features."
   ]
  },
  {
   "cell_type": "code",
   "execution_count": 10,
   "id": "ece4a494",
   "metadata": {},
   "outputs": [
    {
     "data": {
      "text/plain": [
       "CREDIT_SCORE          -0.003068\n",
       "VEHICLE_OWNERSHIP     -0.003074\n",
       "MARRIED               -0.006028\n",
       "CHILDREN               0.001869\n",
       "POSTAL_CODE           -0.002801\n",
       "ANNUAL_MILEAGE        -0.001104\n",
       "SPEEDING_VIOLATIONS    0.000151\n",
       "DUIS                   0.000382\n",
       "PAST_ACCIDENTS        -0.002343\n",
       "OUTCOME                1.000000\n",
       "Name: OUTCOME, dtype: float64"
      ]
     },
     "execution_count": 10,
     "metadata": {},
     "output_type": "execute_result"
    }
   ],
   "source": [
    "df.corr()[\"OUTCOME\"]"
   ]
  },
  {
   "cell_type": "markdown",
   "id": "7aab4584",
   "metadata": {},
   "source": [
    "`Inference` : \n",
    "None of the features are correlated with OUTCOME."
   ]
  },
  {
   "cell_type": "markdown",
   "id": "4f73f176",
   "metadata": {},
   "source": [
    "## Exploratory Data Analysis and Data Visualization"
   ]
  },
  {
   "cell_type": "code",
   "execution_count": 11,
   "id": "7c712c5a",
   "metadata": {},
   "outputs": [],
   "source": [
    "plt.style.use('ggplot')"
   ]
  },
  {
   "cell_type": "markdown",
   "id": "38003722",
   "metadata": {},
   "source": [
    "<strong>Instead of going through the dataframe, to look at the type of values each feature contains, I am using the `PandasProfiling` to generate a report of distributions, missing values, correlations of all the features.</strong>"
   ]
  },
  {
   "cell_type": "code",
   "execution_count": 12,
   "id": "e3a2858e",
   "metadata": {
    "scrolled": false
   },
   "outputs": [
    {
     "data": {
      "application/vnd.jupyter.widget-view+json": {
       "model_id": "e85ad32e6d4344da80b5f59306bea0cf",
       "version_major": 2,
       "version_minor": 0
      },
      "text/plain": [
       "Summarize dataset:   0%|          | 0/5 [00:00<?, ?it/s]"
      ]
     },
     "metadata": {},
     "output_type": "display_data"
    },
    {
     "name": "stderr",
     "output_type": "stream",
     "text": [
      "C:\\Users\\Msc 2\\anaconda3\\envs\\PyG\\lib\\site-packages\\scipy\\stats\\_stats_py.py:4868: RuntimeWarning: overflow encountered in longlong_scalars\n",
      "  (2 * xtie * ytie) / m + x0 * y0 / (9 * m * (size - 2)))\n"
     ]
    },
    {
     "data": {
      "application/vnd.jupyter.widget-view+json": {
       "model_id": "cf6ddfd1f5fc4931a55396694d0caac3",
       "version_major": 2,
       "version_minor": 0
      },
      "text/plain": [
       "Generate report structure:   0%|          | 0/1 [00:00<?, ?it/s]"
      ]
     },
     "metadata": {},
     "output_type": "display_data"
    },
    {
     "data": {
      "application/vnd.jupyter.widget-view+json": {
       "model_id": "4d6e48bee3a742feb8095a1497c22590",
       "version_major": 2,
       "version_minor": 0
      },
      "text/plain": [
       "Render HTML:   0%|          | 0/1 [00:00<?, ?it/s]"
      ]
     },
     "metadata": {},
     "output_type": "display_data"
    },
    {
     "data": {
      "application/vnd.jupyter.widget-view+json": {
       "model_id": "104ae3466b0a4aacbb0c0fad104660de",
       "version_major": 2,
       "version_minor": 0
      },
      "text/plain": [
       "Export report to file:   0%|          | 0/1 [00:00<?, ?it/s]"
      ]
     },
     "metadata": {},
     "output_type": "display_data"
    },
    {
     "data": {
      "application/vnd.jupyter.widget-view+json": {
       "model_id": "",
       "version_major": 2,
       "version_minor": 0
      },
      "text/plain": [
       "Render widgets:   0%|          | 0/1 [00:00<?, ?it/s]"
      ]
     },
     "metadata": {},
     "output_type": "display_data"
    },
    {
     "data": {
      "application/vnd.jupyter.widget-view+json": {
       "model_id": "4b45302e34964a45aad7563bd7c3dc57",
       "version_major": 2,
       "version_minor": 0
      },
      "text/plain": [
       "VBox(children=(Tab(children=(Tab(children=(GridBox(children=(VBox(children=(GridspecLayout(children=(HTML(valu…"
      ]
     },
     "metadata": {},
     "output_type": "display_data"
    }
   ],
   "source": [
    "from pandas_profiling import ProfileReport\n",
    "prof = ProfileReport(df)\n",
    "prof.to_file(output_file='Report.html')\n",
    "prof.to_widgets()"
   ]
  },
  {
   "cell_type": "markdown",
   "id": "20c007f4",
   "metadata": {},
   "source": [
    "### Let's see how all the variables affect the outcome of the claim."
   ]
  },
  {
   "cell_type": "code",
   "execution_count": 13,
   "id": "480b8f56",
   "metadata": {},
   "outputs": [
    {
     "data": {
      "text/html": [
       "<div>\n",
       "<style scoped>\n",
       "    .dataframe tbody tr th:only-of-type {\n",
       "        vertical-align: middle;\n",
       "    }\n",
       "\n",
       "    .dataframe tbody tr th {\n",
       "        vertical-align: top;\n",
       "    }\n",
       "\n",
       "    .dataframe thead th {\n",
       "        text-align: right;\n",
       "    }\n",
       "</style>\n",
       "<table border=\"1\" class=\"dataframe\">\n",
       "  <thead>\n",
       "    <tr style=\"text-align: right;\">\n",
       "      <th></th>\n",
       "      <th>AGE</th>\n",
       "      <th>GENDER</th>\n",
       "      <th>DRIVING_EXPERIENCE</th>\n",
       "      <th>EDUCATION</th>\n",
       "      <th>INCOME</th>\n",
       "      <th>CREDIT_SCORE</th>\n",
       "      <th>VEHICLE_OWNERSHIP</th>\n",
       "      <th>VEHICLE_YEAR</th>\n",
       "      <th>MARRIED</th>\n",
       "      <th>CHILDREN</th>\n",
       "      <th>POSTAL_CODE</th>\n",
       "      <th>ANNUAL_MILEAGE</th>\n",
       "      <th>SPEEDING_VIOLATIONS</th>\n",
       "      <th>DUIS</th>\n",
       "      <th>PAST_ACCIDENTS</th>\n",
       "      <th>OUTCOME</th>\n",
       "      <th>TYPE_OF_VEHICLE</th>\n",
       "    </tr>\n",
       "  </thead>\n",
       "  <tbody>\n",
       "    <tr>\n",
       "      <th>0</th>\n",
       "      <td>40-64</td>\n",
       "      <td>female</td>\n",
       "      <td>20-29y</td>\n",
       "      <td>university</td>\n",
       "      <td>middle class</td>\n",
       "      <td>0.638050</td>\n",
       "      <td>0.0</td>\n",
       "      <td>after 2015</td>\n",
       "      <td>0.0</td>\n",
       "      <td>0.0</td>\n",
       "      <td>37379</td>\n",
       "      <td>11000.0</td>\n",
       "      <td>0</td>\n",
       "      <td>0</td>\n",
       "      <td>0</td>\n",
       "      <td>0.0</td>\n",
       "      <td>Sports Car</td>\n",
       "    </tr>\n",
       "    <tr>\n",
       "      <th>1</th>\n",
       "      <td>26-39</td>\n",
       "      <td>male</td>\n",
       "      <td>20-29y</td>\n",
       "      <td>high school</td>\n",
       "      <td>middle class</td>\n",
       "      <td>0.475741</td>\n",
       "      <td>1.0</td>\n",
       "      <td>before 2015</td>\n",
       "      <td>1.0</td>\n",
       "      <td>0.0</td>\n",
       "      <td>10238</td>\n",
       "      <td>9000.0</td>\n",
       "      <td>0</td>\n",
       "      <td>0</td>\n",
       "      <td>0</td>\n",
       "      <td>1.0</td>\n",
       "      <td>HatchBack</td>\n",
       "    </tr>\n",
       "    <tr>\n",
       "      <th>2</th>\n",
       "      <td>40-64</td>\n",
       "      <td>male</td>\n",
       "      <td>20-29y</td>\n",
       "      <td>none</td>\n",
       "      <td>middle class</td>\n",
       "      <td>0.839817</td>\n",
       "      <td>1.0</td>\n",
       "      <td>before 2015</td>\n",
       "      <td>1.0</td>\n",
       "      <td>1.0</td>\n",
       "      <td>10238</td>\n",
       "      <td>12000.0</td>\n",
       "      <td>0</td>\n",
       "      <td>0</td>\n",
       "      <td>0</td>\n",
       "      <td>1.0</td>\n",
       "      <td>Sedan</td>\n",
       "    </tr>\n",
       "    <tr>\n",
       "      <th>3</th>\n",
       "      <td>40-64</td>\n",
       "      <td>male</td>\n",
       "      <td>20-29y</td>\n",
       "      <td>high school</td>\n",
       "      <td>upper class</td>\n",
       "      <td>0.682527</td>\n",
       "      <td>1.0</td>\n",
       "      <td>before 2015</td>\n",
       "      <td>0.0</td>\n",
       "      <td>1.0</td>\n",
       "      <td>92099</td>\n",
       "      <td>6000.0</td>\n",
       "      <td>1</td>\n",
       "      <td>0</td>\n",
       "      <td>0</td>\n",
       "      <td>1.0</td>\n",
       "      <td>Sedan</td>\n",
       "    </tr>\n",
       "    <tr>\n",
       "      <th>4</th>\n",
       "      <td>40-64</td>\n",
       "      <td>female</td>\n",
       "      <td>20-29y</td>\n",
       "      <td>none</td>\n",
       "      <td>working class</td>\n",
       "      <td>0.572184</td>\n",
       "      <td>1.0</td>\n",
       "      <td>after 2015</td>\n",
       "      <td>1.0</td>\n",
       "      <td>1.0</td>\n",
       "      <td>32122</td>\n",
       "      <td>15000.0</td>\n",
       "      <td>0</td>\n",
       "      <td>0</td>\n",
       "      <td>1</td>\n",
       "      <td>0.0</td>\n",
       "      <td>Sedan</td>\n",
       "    </tr>\n",
       "    <tr>\n",
       "      <th>...</th>\n",
       "      <td>...</td>\n",
       "      <td>...</td>\n",
       "      <td>...</td>\n",
       "      <td>...</td>\n",
       "      <td>...</td>\n",
       "      <td>...</td>\n",
       "      <td>...</td>\n",
       "      <td>...</td>\n",
       "      <td>...</td>\n",
       "      <td>...</td>\n",
       "      <td>...</td>\n",
       "      <td>...</td>\n",
       "      <td>...</td>\n",
       "      <td>...</td>\n",
       "      <td>...</td>\n",
       "      <td>...</td>\n",
       "      <td>...</td>\n",
       "    </tr>\n",
       "    <tr>\n",
       "      <th>104995</th>\n",
       "      <td>65+</td>\n",
       "      <td>female</td>\n",
       "      <td>0-9y</td>\n",
       "      <td>high school</td>\n",
       "      <td>upper class</td>\n",
       "      <td>0.672255</td>\n",
       "      <td>1.0</td>\n",
       "      <td>before 2015</td>\n",
       "      <td>0.0</td>\n",
       "      <td>0.0</td>\n",
       "      <td>31885</td>\n",
       "      <td>9000.0</td>\n",
       "      <td>2</td>\n",
       "      <td>0</td>\n",
       "      <td>0</td>\n",
       "      <td>0.0</td>\n",
       "      <td>SUV</td>\n",
       "    </tr>\n",
       "    <tr>\n",
       "      <th>104996</th>\n",
       "      <td>40-64</td>\n",
       "      <td>female</td>\n",
       "      <td>0-9y</td>\n",
       "      <td>none</td>\n",
       "      <td>working class</td>\n",
       "      <td>0.514193</td>\n",
       "      <td>1.0</td>\n",
       "      <td>after 2015</td>\n",
       "      <td>1.0</td>\n",
       "      <td>0.0</td>\n",
       "      <td>32277</td>\n",
       "      <td>10000.0</td>\n",
       "      <td>0</td>\n",
       "      <td>0</td>\n",
       "      <td>0</td>\n",
       "      <td>1.0</td>\n",
       "      <td>Sedan</td>\n",
       "    </tr>\n",
       "    <tr>\n",
       "      <th>104997</th>\n",
       "      <td>16-25</td>\n",
       "      <td>male</td>\n",
       "      <td>10-19y</td>\n",
       "      <td>none</td>\n",
       "      <td>upper class</td>\n",
       "      <td>0.461942</td>\n",
       "      <td>1.0</td>\n",
       "      <td>after 2015</td>\n",
       "      <td>1.0</td>\n",
       "      <td>0.0</td>\n",
       "      <td>34800</td>\n",
       "      <td>11000.0</td>\n",
       "      <td>0</td>\n",
       "      <td>0</td>\n",
       "      <td>0</td>\n",
       "      <td>1.0</td>\n",
       "      <td>Sedan</td>\n",
       "    </tr>\n",
       "    <tr>\n",
       "      <th>104998</th>\n",
       "      <td>40-64</td>\n",
       "      <td>female</td>\n",
       "      <td>20-29y</td>\n",
       "      <td>high school</td>\n",
       "      <td>working class</td>\n",
       "      <td>0.483571</td>\n",
       "      <td>1.0</td>\n",
       "      <td>before 2015</td>\n",
       "      <td>0.0</td>\n",
       "      <td>0.0</td>\n",
       "      <td>10238</td>\n",
       "      <td>10000.0</td>\n",
       "      <td>0</td>\n",
       "      <td>0</td>\n",
       "      <td>0</td>\n",
       "      <td>0.0</td>\n",
       "      <td>HatchBack</td>\n",
       "    </tr>\n",
       "    <tr>\n",
       "      <th>104999</th>\n",
       "      <td>65+</td>\n",
       "      <td>female</td>\n",
       "      <td>20-29y</td>\n",
       "      <td>high school</td>\n",
       "      <td>upper class</td>\n",
       "      <td>0.468710</td>\n",
       "      <td>1.0</td>\n",
       "      <td>after 2015</td>\n",
       "      <td>0.0</td>\n",
       "      <td>1.0</td>\n",
       "      <td>10238</td>\n",
       "      <td>14000.0</td>\n",
       "      <td>0</td>\n",
       "      <td>0</td>\n",
       "      <td>0</td>\n",
       "      <td>1.0</td>\n",
       "      <td>HatchBack</td>\n",
       "    </tr>\n",
       "  </tbody>\n",
       "</table>\n",
       "<p>105000 rows × 17 columns</p>\n",
       "</div>"
      ],
      "text/plain": [
       "          AGE  GENDER DRIVING_EXPERIENCE    EDUCATION         INCOME  \\\n",
       "0       40-64  female             20-29y   university   middle class   \n",
       "1       26-39    male             20-29y  high school   middle class   \n",
       "2       40-64    male             20-29y         none   middle class   \n",
       "3       40-64    male             20-29y  high school    upper class   \n",
       "4       40-64  female             20-29y         none  working class   \n",
       "...       ...     ...                ...          ...            ...   \n",
       "104995    65+  female               0-9y  high school    upper class   \n",
       "104996  40-64  female               0-9y         none  working class   \n",
       "104997  16-25    male             10-19y         none    upper class   \n",
       "104998  40-64  female             20-29y  high school  working class   \n",
       "104999    65+  female             20-29y  high school    upper class   \n",
       "\n",
       "        CREDIT_SCORE  VEHICLE_OWNERSHIP VEHICLE_YEAR  MARRIED  CHILDREN  \\\n",
       "0           0.638050                0.0   after 2015      0.0       0.0   \n",
       "1           0.475741                1.0  before 2015      1.0       0.0   \n",
       "2           0.839817                1.0  before 2015      1.0       1.0   \n",
       "3           0.682527                1.0  before 2015      0.0       1.0   \n",
       "4           0.572184                1.0   after 2015      1.0       1.0   \n",
       "...              ...                ...          ...      ...       ...   \n",
       "104995      0.672255                1.0  before 2015      0.0       0.0   \n",
       "104996      0.514193                1.0   after 2015      1.0       0.0   \n",
       "104997      0.461942                1.0   after 2015      1.0       0.0   \n",
       "104998      0.483571                1.0  before 2015      0.0       0.0   \n",
       "104999      0.468710                1.0   after 2015      0.0       1.0   \n",
       "\n",
       "        POSTAL_CODE  ANNUAL_MILEAGE  SPEEDING_VIOLATIONS  DUIS  \\\n",
       "0             37379         11000.0                    0     0   \n",
       "1             10238          9000.0                    0     0   \n",
       "2             10238         12000.0                    0     0   \n",
       "3             92099          6000.0                    1     0   \n",
       "4             32122         15000.0                    0     0   \n",
       "...             ...             ...                  ...   ...   \n",
       "104995        31885          9000.0                    2     0   \n",
       "104996        32277         10000.0                    0     0   \n",
       "104997        34800         11000.0                    0     0   \n",
       "104998        10238         10000.0                    0     0   \n",
       "104999        10238         14000.0                    0     0   \n",
       "\n",
       "        PAST_ACCIDENTS  OUTCOME TYPE_OF_VEHICLE  \n",
       "0                    0      0.0      Sports Car  \n",
       "1                    0      1.0       HatchBack  \n",
       "2                    0      1.0           Sedan  \n",
       "3                    0      1.0           Sedan  \n",
       "4                    1      0.0           Sedan  \n",
       "...                ...      ...             ...  \n",
       "104995               0      0.0             SUV  \n",
       "104996               0      1.0           Sedan  \n",
       "104997               0      1.0           Sedan  \n",
       "104998               0      0.0       HatchBack  \n",
       "104999               0      1.0       HatchBack  \n",
       "\n",
       "[105000 rows x 17 columns]"
      ]
     },
     "execution_count": 13,
     "metadata": {},
     "output_type": "execute_result"
    }
   ],
   "source": [
    "df"
   ]
  },
  {
   "cell_type": "markdown",
   "id": "ada64bc3",
   "metadata": {},
   "source": [
    "#### 1. How credit score, milage, no of speeding violations, duis and number of past accidents affects the outcome of the claim?"
   ]
  },
  {
   "cell_type": "code",
   "execution_count": 15,
   "id": "40b491b7",
   "metadata": {},
   "outputs": [
    {
     "data": {
      "text/html": [
       "<div>\n",
       "<style scoped>\n",
       "    .dataframe tbody tr th:only-of-type {\n",
       "        vertical-align: middle;\n",
       "    }\n",
       "\n",
       "    .dataframe tbody tr th {\n",
       "        vertical-align: top;\n",
       "    }\n",
       "\n",
       "    .dataframe thead th {\n",
       "        text-align: right;\n",
       "    }\n",
       "</style>\n",
       "<table border=\"1\" class=\"dataframe\">\n",
       "  <thead>\n",
       "    <tr style=\"text-align: right;\">\n",
       "      <th></th>\n",
       "      <th>CREDIT_SCORE</th>\n",
       "    </tr>\n",
       "    <tr>\n",
       "      <th>OUTCOME</th>\n",
       "      <th></th>\n",
       "    </tr>\n",
       "  </thead>\n",
       "  <tbody>\n",
       "    <tr>\n",
       "      <th>0.0</th>\n",
       "      <td>0.602535</td>\n",
       "    </tr>\n",
       "    <tr>\n",
       "      <th>1.0</th>\n",
       "      <td>0.601678</td>\n",
       "    </tr>\n",
       "  </tbody>\n",
       "</table>\n",
       "</div>"
      ],
      "text/plain": [
       "         CREDIT_SCORE\n",
       "OUTCOME              \n",
       "0.0          0.602535\n",
       "1.0          0.601678"
      ]
     },
     "execution_count": 15,
     "metadata": {},
     "output_type": "execute_result"
    }
   ],
   "source": [
    "cred_pt = pd.pivot_table(df, index='OUTCOME', values='CREDIT_SCORE', aggfunc=np.mean)\n",
    "cred_pt"
   ]
  },
  {
   "cell_type": "code",
   "execution_count": 16,
   "id": "26f7fc4a",
   "metadata": {},
   "outputs": [
    {
     "data": {
      "text/html": [
       "<div>\n",
       "<style scoped>\n",
       "    .dataframe tbody tr th:only-of-type {\n",
       "        vertical-align: middle;\n",
       "    }\n",
       "\n",
       "    .dataframe tbody tr th {\n",
       "        vertical-align: top;\n",
       "    }\n",
       "\n",
       "    .dataframe thead th {\n",
       "        text-align: right;\n",
       "    }\n",
       "</style>\n",
       "<table border=\"1\" class=\"dataframe\">\n",
       "  <thead>\n",
       "    <tr style=\"text-align: right;\">\n",
       "      <th></th>\n",
       "      <th>ANNUAL_MILEAGE</th>\n",
       "    </tr>\n",
       "    <tr>\n",
       "      <th>OUTCOME</th>\n",
       "      <th></th>\n",
       "    </tr>\n",
       "  </thead>\n",
       "  <tbody>\n",
       "    <tr>\n",
       "      <th>0.0</th>\n",
       "      <td>11064.036158</td>\n",
       "    </tr>\n",
       "    <tr>\n",
       "      <th>1.0</th>\n",
       "      <td>11057.393303</td>\n",
       "    </tr>\n",
       "  </tbody>\n",
       "</table>\n",
       "</div>"
      ],
      "text/plain": [
       "         ANNUAL_MILEAGE\n",
       "OUTCOME                \n",
       "0.0        11064.036158\n",
       "1.0        11057.393303"
      ]
     },
     "execution_count": 16,
     "metadata": {},
     "output_type": "execute_result"
    }
   ],
   "source": [
    "mile_pt = pd.pivot_table(df, index='OUTCOME', values='ANNUAL_MILEAGE', aggfunc=np.mean)\n",
    "mile_pt"
   ]
  },
  {
   "cell_type": "code",
   "execution_count": 17,
   "id": "17e19875",
   "metadata": {},
   "outputs": [
    {
     "data": {
      "text/html": [
       "<div>\n",
       "<style scoped>\n",
       "    .dataframe tbody tr th:only-of-type {\n",
       "        vertical-align: middle;\n",
       "    }\n",
       "\n",
       "    .dataframe tbody tr th {\n",
       "        vertical-align: top;\n",
       "    }\n",
       "\n",
       "    .dataframe thead th {\n",
       "        text-align: right;\n",
       "    }\n",
       "</style>\n",
       "<table border=\"1\" class=\"dataframe\">\n",
       "  <thead>\n",
       "    <tr style=\"text-align: right;\">\n",
       "      <th></th>\n",
       "      <th>SPEEDING_VIOLATIONS</th>\n",
       "    </tr>\n",
       "    <tr>\n",
       "      <th>OUTCOME</th>\n",
       "      <th></th>\n",
       "    </tr>\n",
       "  </thead>\n",
       "  <tbody>\n",
       "    <tr>\n",
       "      <th>0.0</th>\n",
       "      <td>0.675497</td>\n",
       "    </tr>\n",
       "    <tr>\n",
       "      <th>1.0</th>\n",
       "      <td>0.675921</td>\n",
       "    </tr>\n",
       "  </tbody>\n",
       "</table>\n",
       "</div>"
      ],
      "text/plain": [
       "         SPEEDING_VIOLATIONS\n",
       "OUTCOME                     \n",
       "0.0                 0.675497\n",
       "1.0                 0.675921"
      ]
     },
     "execution_count": 17,
     "metadata": {},
     "output_type": "execute_result"
    }
   ],
   "source": [
    "svio_pt = pd.pivot_table(df, index='OUTCOME', values='SPEEDING_VIOLATIONS', aggfunc=np.mean)\n",
    "svio_pt"
   ]
  },
  {
   "cell_type": "code",
   "execution_count": 18,
   "id": "d8edb010",
   "metadata": {},
   "outputs": [
    {
     "data": {
      "text/html": [
       "<div>\n",
       "<style scoped>\n",
       "    .dataframe tbody tr th:only-of-type {\n",
       "        vertical-align: middle;\n",
       "    }\n",
       "\n",
       "    .dataframe tbody tr th {\n",
       "        vertical-align: top;\n",
       "    }\n",
       "\n",
       "    .dataframe thead th {\n",
       "        text-align: right;\n",
       "    }\n",
       "</style>\n",
       "<table border=\"1\" class=\"dataframe\">\n",
       "  <thead>\n",
       "    <tr style=\"text-align: right;\">\n",
       "      <th></th>\n",
       "      <th>DUIS</th>\n",
       "    </tr>\n",
       "    <tr>\n",
       "      <th>OUTCOME</th>\n",
       "      <th></th>\n",
       "    </tr>\n",
       "  </thead>\n",
       "  <tbody>\n",
       "    <tr>\n",
       "      <th>0.0</th>\n",
       "      <td>0.129540</td>\n",
       "    </tr>\n",
       "    <tr>\n",
       "      <th>1.0</th>\n",
       "      <td>0.129997</td>\n",
       "    </tr>\n",
       "  </tbody>\n",
       "</table>\n",
       "</div>"
      ],
      "text/plain": [
       "             DUIS\n",
       "OUTCOME          \n",
       "0.0      0.129540\n",
       "1.0      0.129997"
      ]
     },
     "execution_count": 18,
     "metadata": {},
     "output_type": "execute_result"
    }
   ],
   "source": [
    "duis_pt = pd.pivot_table(df, index='OUTCOME', values='DUIS', aggfunc=np.mean)\n",
    "duis_pt"
   ]
  },
  {
   "cell_type": "code",
   "execution_count": 19,
   "id": "46e63467",
   "metadata": {},
   "outputs": [
    {
     "data": {
      "text/html": [
       "<div>\n",
       "<style scoped>\n",
       "    .dataframe tbody tr th:only-of-type {\n",
       "        vertical-align: middle;\n",
       "    }\n",
       "\n",
       "    .dataframe tbody tr th {\n",
       "        vertical-align: top;\n",
       "    }\n",
       "\n",
       "    .dataframe thead th {\n",
       "        text-align: right;\n",
       "    }\n",
       "</style>\n",
       "<table border=\"1\" class=\"dataframe\">\n",
       "  <thead>\n",
       "    <tr style=\"text-align: right;\">\n",
       "      <th></th>\n",
       "      <th>PAST_ACCIDENTS</th>\n",
       "    </tr>\n",
       "    <tr>\n",
       "      <th>OUTCOME</th>\n",
       "      <th></th>\n",
       "    </tr>\n",
       "  </thead>\n",
       "  <tbody>\n",
       "    <tr>\n",
       "      <th>0.0</th>\n",
       "      <td>0.552126</td>\n",
       "    </tr>\n",
       "    <tr>\n",
       "      <th>1.0</th>\n",
       "      <td>0.545473</td>\n",
       "    </tr>\n",
       "  </tbody>\n",
       "</table>\n",
       "</div>"
      ],
      "text/plain": [
       "         PAST_ACCIDENTS\n",
       "OUTCOME                \n",
       "0.0            0.552126\n",
       "1.0            0.545473"
      ]
     },
     "execution_count": 19,
     "metadata": {},
     "output_type": "execute_result"
    }
   ],
   "source": [
    "past_pt = pd.pivot_table(df, index='OUTCOME', values='PAST_ACCIDENTS', aggfunc=np.mean)\n",
    "past_pt"
   ]
  },
  {
   "cell_type": "markdown",
   "id": "d8cc7c81",
   "metadata": {},
   "source": [
    "`Inference`:-\n",
    "\n",
    "We had previously seen that our target variable, OUTCOME, bears no correlation with any of the numerical columns. \n",
    "\n",
    "By Creating pivot tables of Outcome vs Various Numerical Columns, we can see that OUTCOME is not affected in any significant way by any of those features."
   ]
  },
  {
   "cell_type": "markdown",
   "id": "4947d0b7",
   "metadata": {},
   "source": [
    "#### 2. How driving experience incluence past accident?"
   ]
  },
  {
   "cell_type": "code",
   "execution_count": 20,
   "id": "de42bb25",
   "metadata": {},
   "outputs": [],
   "source": [
    "driv_past = pd.pivot_table(df, index='DRIVING_EXPERIENCE', values='PAST_ACCIDENTS', aggfunc=np.mean)"
   ]
  },
  {
   "cell_type": "code",
   "execution_count": 96,
   "id": "ff9f488f",
   "metadata": {},
   "outputs": [
    {
     "data": {
      "image/png": "[encoded data removed]",
      "text/plain": [
       "<Figure size 720x432 with 1 Axes>"
      ]
     },
     "metadata": {},
     "output_type": "display_data"
    }
   ],
   "source": [
    "plt.figure(figsize=(10,6))\n",
    "p = sns.barplot(data=driv_past, y='PAST_ACCIDENTS', x=driv_past.index, orient='v')\n",
    "plt.title('Does driving experience save you from accidents?')\n",
    "plt.ylabel('Average no of past accidents')\n",
    "plt.xlabel('Driving Experience')\n",
    "for i in p.containers:\n",
    "    p.bar_label(i,)\n",
    "plt.show()"
   ]
  },
  {
   "cell_type": "markdown",
   "id": "88b2c570",
   "metadata": {},
   "source": [
    "`Inference`:-\n",
    "- Nothing conclusive can be inferred from the plot, as all the bars are very close together. Mostly because past accidents only goes for 0 and 1 and not the no of past accidents, hence we miss out on them."
   ]
  },
  {
   "cell_type": "markdown",
   "id": "ce544205",
   "metadata": {},
   "source": [
    "#### 3. Are age and past accidents related?"
   ]
  },
  {
   "cell_type": "code",
   "execution_count": 22,
   "id": "ec31af29",
   "metadata": {},
   "outputs": [],
   "source": [
    "age_past = pd.pivot_table(df, index='AGE', values='PAST_ACCIDENTS', aggfunc=np.mean)"
   ]
  },
  {
   "cell_type": "code",
   "execution_count": 95,
   "id": "cebc5aae",
   "metadata": {},
   "outputs": [
    {
     "data": {
      "image/png": "[encoded data removed]",
      "text/plain": [
       "<Figure size 720x432 with 1 Axes>"
      ]
     },
     "metadata": {},
     "output_type": "display_data"
    }
   ],
   "source": [
    "plt.figure(figsize=(10,6))\n",
    "p = sns.barplot(data=age_past, y='PAST_ACCIDENTS', x=age_past.index, orient='v')\n",
    "plt.title('Do your age show more chances of past accidents?')\n",
    "plt.ylabel('Average no of past accidents')\n",
    "plt.xlabel('Age')\n",
    "for i in p.containers:\n",
    "    p.bar_label(i,)\n",
    "plt.show()"
   ]
  },
  {
   "cell_type": "markdown",
   "id": "8c93ab18",
   "metadata": {},
   "source": [
    "`Inference`:-\n",
    "- Nothing conclusive can be inferred from the plot, again, as all the bars are very close together. Mostly because past accidents only goes for 0 and 1 and not the no of past accidents, hence we miss out on them."
   ]
  },
  {
   "cell_type": "markdown",
   "id": "03754dc9",
   "metadata": {},
   "source": [
    "#### 4. Are type of vehicle and past accidents related?"
   ]
  },
  {
   "cell_type": "code",
   "execution_count": 76,
   "id": "479291d1",
   "metadata": {},
   "outputs": [],
   "source": [
    "past_type = pd.pivot_table(df, index='TYPE_OF_VEHICLE', values='PAST_ACCIDENTS', aggfunc=np.mean)"
   ]
  },
  {
   "cell_type": "code",
   "execution_count": 93,
   "id": "46bc7905",
   "metadata": {},
   "outputs": [
    {
     "data": {
      "image/png": "[encoded data removed]",
      "text/plain": [
       "<Figure size 720x432 with 1 Axes>"
      ]
     },
     "metadata": {},
     "output_type": "display_data"
    }
   ],
   "source": [
    "plt.figure(figsize=(10,6))\n",
    "p = sns.barplot(data=past_type, y='PAST_ACCIDENTS', x=past_type.index, orient='v')\n",
    "plt.title('Does type of vehicle correlate past accidents?')\n",
    "plt.ylabel('Average no of past accidents')\n",
    "plt.xlabel('Type of Vehicle')\n",
    "for i in p.containers:\n",
    "    p.bar_label(i,)\n",
    "plt.show()"
   ]
  },
  {
   "cell_type": "markdown",
   "id": "83326205",
   "metadata": {},
   "source": [
    "`Inference`:-\n",
    "    \n",
    "- Though the difference is very small. But it is interesting to see that Sports Cars and Sedans are bit less likely to be involved in past accidents than SUVs and HatchBacks"
   ]
  },
  {
   "cell_type": "markdown",
   "id": "b104468e",
   "metadata": {},
   "source": [
    "#### 5. How income and type of vehicle are correlated?"
   ]
  },
  {
   "cell_type": "code",
   "execution_count": 34,
   "id": "f5926a7f",
   "metadata": {
    "scrolled": false
   },
   "outputs": [
    {
     "data": {
      "image/png": "[encoded data removed]",
      "text/plain": [
       "<Figure size 720x432 with 1 Axes>"
      ]
     },
     "metadata": {},
     "output_type": "display_data"
    }
   ],
   "source": [
    "plt.figure(figsize=(10,6))\n",
    "sns.countplot(data=df, x='INCOME', hue='TYPE_OF_VEHICLE')\n",
    "plt.title('What kind of vehicle does people belonging to various classes of income go for?')\n",
    "plt.ylabel('No of instances')\n",
    "plt.xlabel('Types of vehicles')\n",
    "plt.show()"
   ]
  },
  {
   "cell_type": "markdown",
   "id": "99aa2abc",
   "metadata": {},
   "source": [
    "`Inference`:\n",
    "- Preferred vehicle type : Sports > Sedan > HatchBack > SUV.\n",
    "- No difference in preference(or usage) between the 4 classes of income."
   ]
  },
  {
   "cell_type": "markdown",
   "id": "8894afb6",
   "metadata": {},
   "source": [
    "#### 5. How education and type of vehicle are correlated?"
   ]
  },
  {
   "cell_type": "code",
   "execution_count": 29,
   "id": "8d28ee5c",
   "metadata": {
    "scrolled": false
   },
   "outputs": [
    {
     "data": {
      "image/png": "[encoded data removed]",
      "text/plain": [
       "<Figure size 720x432 with 1 Axes>"
      ]
     },
     "metadata": {},
     "output_type": "display_data"
    }
   ],
   "source": [
    "plt.figure(figsize=(10,6))\n",
    "sns.countplot(data=df, x='EDUCATION', hue='TYPE_OF_VEHICLE')\n",
    "plt.title('What kind of vehicle does people belonging to various education backgrounds go for?')\n",
    "plt.ylabel('No of instances')\n",
    "plt.xlabel('Types of vehicles')\n",
    "plt.show()"
   ]
  },
  {
   "cell_type": "markdown",
   "id": "5f86a5f1",
   "metadata": {},
   "source": [
    "`Inference`:\n",
    "- Preferred vehicle type : Sports > Sedan > HatchBack > SUV.\n",
    "- No difference in preference(or usage) between the three classes of education."
   ]
  },
  {
   "cell_type": "markdown",
   "id": "f1267013",
   "metadata": {},
   "source": [
    "#### 6. How is credit score distributed among varis class of income?"
   ]
  },
  {
   "cell_type": "code",
   "execution_count": 61,
   "id": "47275e45",
   "metadata": {},
   "outputs": [
    {
     "data": {
      "image/png": "[encoded data removed]",
      "text/plain": [
       "<Figure size 1152x1152 with 4 Axes>"
      ]
     },
     "metadata": {},
     "output_type": "display_data"
    }
   ],
   "source": [
    "plt.figure(figsize=(16,16))\n",
    "plt.subplot(2,2,1)\n",
    "sns.kdeplot(df[df['INCOME']=='upper class']['CREDIT_SCORE'], color='tab:blue')\n",
    "plt.title('Upper Class')\n",
    "plt.subplot(2,2,2)\n",
    "sns.kdeplot(df[df['INCOME']=='middle class']['CREDIT_SCORE'], color='tab:blue')\n",
    "plt.title('Middle Class')\n",
    "plt.subplot(2,2,3)\n",
    "sns.kdeplot(df[df['INCOME']=='working class']['CREDIT_SCORE'], color='tab:blue')\n",
    "plt.title('Working Class')\n",
    "plt.subplot(2,2,4)\n",
    "sns.kdeplot(df[df['INCOME']=='poverty']['CREDIT_SCORE'], color='tab:blue')\n",
    "plt.title('Poverty Class')\n",
    "plt.show()"
   ]
  },
  {
   "cell_type": "markdown",
   "id": "05fecad0",
   "metadata": {},
   "source": [
    "`Inference`:-\n",
    "- Nothing conclusive can be inferred from the plot, again, as all the distributions are nearly the same.\n",
    "- No matter which Income background, you are from, the credit score is distributed in the same way."
   ]
  },
  {
   "cell_type": "markdown",
   "id": "f1121519",
   "metadata": {},
   "source": [
    "#### 7. What type of vehicle do the genders prefer(or use)?"
   ]
  },
  {
   "cell_type": "code",
   "execution_count": 69,
   "id": "87575095",
   "metadata": {
    "scrolled": false
   },
   "outputs": [
    {
     "data": {
      "image/png": "[encoded data removed]",
      "text/plain": [
       "<Figure size 720x432 with 1 Axes>"
      ]
     },
     "metadata": {},
     "output_type": "display_data"
    }
   ],
   "source": [
    "plt.figure(figsize=(10,6))\n",
    "sns.countplot(data=df, hue='TYPE_OF_VEHICLE', x='GENDER')\n",
    "plt.title('What kind of vehicle does the genders go for?')\n",
    "plt.ylabel('No of instances')\n",
    "plt.xlabel('Gender')\n",
    "plt.show()"
   ]
  },
  {
   "cell_type": "markdown",
   "id": "977ea0dd",
   "metadata": {},
   "source": [
    "`Inference`:\n",
    "- Preferred vehicle type : Sports > Sedan > HatchBack > SUV.\n",
    "- No difference in preference(or usage) between the two genders."
   ]
  },
  {
   "cell_type": "markdown",
   "id": "29b358c5",
   "metadata": {},
   "source": [
    "#### 8. Education vs Gender"
   ]
  },
  {
   "cell_type": "code",
   "execution_count": 92,
   "id": "43d1b586",
   "metadata": {},
   "outputs": [
    {
     "data": {
      "image/png": "[encoded data removed]",
      "text/plain": [
       "<Figure size 720x432 with 1 Axes>"
      ]
     },
     "metadata": {},
     "output_type": "display_data"
    }
   ],
   "source": [
    "plt.figure(figsize=(10,6))\n",
    "sns.countplot(data=df, hue='EDUCATION', x='GENDER')\n",
    "plt.title('What is the proportion of genders going for various types of education?')\n",
    "plt.ylabel('No of instances')\n",
    "plt.xlabel('Gender')\n",
    "plt.show()"
   ]
  },
  {
   "cell_type": "markdown",
   "id": "c6719c10",
   "metadata": {},
   "source": [
    "Again, there is no difference in the proportions, only difference in scale due to the presense of more male datapoints. "
   ]
  },
  {
   "cell_type": "markdown",
   "id": "487b6c82",
   "metadata": {},
   "source": [
    "#### 9. Speeding violations Vs Type of Vehicle"
   ]
  },
  {
   "cell_type": "code",
   "execution_count": 86,
   "id": "c68b7948",
   "metadata": {},
   "outputs": [],
   "source": [
    "type_vio = pd.pivot_table(data=df, index='TYPE_OF_VEHICLE', values='SPEEDING_VIOLATIONS', aggfunc=np.mean)"
   ]
  },
  {
   "cell_type": "code",
   "execution_count": 91,
   "id": "660793c7",
   "metadata": {},
   "outputs": [
    {
     "data": {
      "image/png": "[encoded data removed]",
      "text/plain": [
       "<Figure size 720x432 with 1 Axes>"
      ]
     },
     "metadata": {},
     "output_type": "display_data"
    }
   ],
   "source": [
    "plt.figure(figsize=(10,6))\n",
    "p = sns.barplot(data=type_vio, y='SPEEDING_VIOLATIONS' , x=type_vio.index)\n",
    "plt.title('What type of vehicle is more likely to overspeed?')\n",
    "plt.ylabel('Average no of speeding violations')\n",
    "plt.xlabel('Type of Vehicle')\n",
    "for i in p.containers:\n",
    "    p.bar_label(i,)\n",
    "plt.show()"
   ]
  },
  {
   "cell_type": "markdown",
   "id": "961c1105",
   "metadata": {},
   "source": [
    "Again the difference is very small, but Sedan and Sports cars are again more likely to overspeed."
   ]
  },
  {
   "cell_type": "markdown",
   "id": "f0bcdd4e",
   "metadata": {},
   "source": [
    "### Conclusion of the EDA\n",
    "- The data is created as such that there is absolutely no relation between any of the features and within each categories of every feature.\n",
    "- As it is the competition dataset, it may be done so to increase its complexity.\n",
    "- Also, the use of means ensure that we are not baising our observations, like as the number of males in more in our dataset, if we compare any numerical columns with respect to gender using sum, male will alwasy come to be more.\n",
    "- Doing any further EDA would not give huge insights. Hence, we will go for feature engineering."
   ]
  },
  {
   "cell_type": "markdown",
   "id": "513b244e",
   "metadata": {},
   "source": [
    "## Feature Engineering"
   ]
  },
  {
   "cell_type": "markdown",
   "id": "d48240d9",
   "metadata": {},
   "source": [
    "#### We will sample 30000 rows of all, so as to reduce computation, and also in the process balance our data."
   ]
  },
  {
   "cell_type": "code",
   "execution_count": 10,
   "id": "67878dd7",
   "metadata": {},
   "outputs": [],
   "source": [
    "df1 = df[df['OUTCOME'] == 1].sample(20000, random_state=34)\n",
    "df0 = df[df['OUTCOME'] == 0].sample(20000, random_state=34)\n",
    "# concatenating the dataframes\n",
    "df_new = pd.concat([df0, df1], axis=0)\n",
    "# shuffling the rows of the balanced dataframe\n",
    "df_new = df_new.sample(frac=1, random_state=34)"
   ]
  },
  {
   "cell_type": "markdown",
   "id": "3fff0789",
   "metadata": {},
   "source": [
    "#### First, we will split the dataset into training and testing dataset before any kind of feature engineering. "
   ]
  },
  {
   "cell_type": "code",
   "execution_count": 11,
   "id": "1171ef80",
   "metadata": {},
   "outputs": [],
   "source": [
    "from sklearn.model_selection import train_test_split"
   ]
  },
  {
   "cell_type": "code",
   "execution_count": 14,
   "id": "e51c5089",
   "metadata": {},
   "outputs": [
    {
     "data": {
      "text/plain": [
       "((28000, 16), (12000, 16))"
      ]
     },
     "execution_count": 14,
     "metadata": {},
     "output_type": "execute_result"
    }
   ],
   "source": [
    "X_train, X_test, y_train, y_test = train_test_split(df_new.drop('OUTCOME', axis=1), \n",
    "                                                    df_new['OUTCOME'], \n",
    "                                                    test_size=0.3, \n",
    "                                                    random_state=42)\n",
    "X_train.shape, X_test.shape"
   ]
  },
  {
   "cell_type": "code",
   "execution_count": 15,
   "id": "9190cb0a",
   "metadata": {},
   "outputs": [
    {
     "data": {
      "text/plain": [
       "0.0    6041\n",
       "1.0    5959\n",
       "Name: OUTCOME, dtype: int64"
      ]
     },
     "execution_count": 15,
     "metadata": {},
     "output_type": "execute_result"
    }
   ],
   "source": [
    "y_test.value_counts()"
   ]
  },
  {
   "cell_type": "markdown",
   "id": "fe9c0625",
   "metadata": {},
   "source": [
    "#### Second, we will encode the categorical variables as needed, `Ordinal` or `One-Hot`."
   ]
  },
  {
   "cell_type": "code",
   "execution_count": 16,
   "id": "e6fe6f3f",
   "metadata": {},
   "outputs": [],
   "source": [
    "from sklearn.preprocessing import OrdinalEncoder, OneHotEncoder, LabelEncoder"
   ]
  },
  {
   "cell_type": "code",
   "execution_count": 17,
   "id": "1691f9ba",
   "metadata": {},
   "outputs": [],
   "source": [
    "ordinal_list = [\n",
    "    ['none', 'high school', 'university'],                         # education\n",
    "    ['0-9y', '10-19y', '20-29y', '30y+'],                          # experience\n",
    "    ['16-25', '26-39', '40-64', '65+'],                            # age\n",
    "    ['poverty', 'working class', 'middle class', 'upper class'],   # income\n",
    "    ['before 2015', 'after 2015']                                  # vehicle year\n",
    "]"
   ]
  },
  {
   "cell_type": "markdown",
   "id": "bed5ca3b",
   "metadata": {},
   "source": [
    "#### We will be using `ColumnTransformer` for the encoding as we would be using `Pipeline` later on."
   ]
  },
  {
   "cell_type": "code",
   "execution_count": 18,
   "id": "278cbab2",
   "metadata": {},
   "outputs": [],
   "source": [
    "from sklearn.compose import ColumnTransformer\n",
    "from sklearn.pipeline import Pipeline"
   ]
  },
  {
   "cell_type": "code",
   "execution_count": 19,
   "id": "a86455f9",
   "metadata": {},
   "outputs": [],
   "source": [
    "tf_encode = ColumnTransformer(transformers=[\n",
    "    ('ordinal', OrdinalEncoder(categories=ordinal_list),\n",
    "    ['EDUCATION', 'DRIVING_EXPERIENCE', 'AGE', 'INCOME', \"VEHICLE_YEAR\"]),\n",
    "    \n",
    "    ('one-hot', OneHotEncoder(drop='first', sparse=False),\n",
    "    ['GENDER', 'TYPE_OF_VEHICLE'])\n",
    "], remainder='passthrough')"
   ]
  },
  {
   "cell_type": "code",
   "execution_count": 20,
   "id": "b9921bcb",
   "metadata": {},
   "outputs": [],
   "source": [
    "X_train_enc = tf_encode.fit_transform(X_train)\n",
    "X_test_enc  = tf_encode.fit_transform(X_test)"
   ]
  },
  {
   "cell_type": "markdown",
   "id": "b30b7f88",
   "metadata": {},
   "source": [
    "## Modelling"
   ]
  },
  {
   "cell_type": "markdown",
   "id": "6be48f08",
   "metadata": {},
   "source": [
    "As Tree-based Models do not need any type of Feature Scaling, we can directly feed our encoded dataset into them."
   ]
  },
  {
   "cell_type": "code",
   "execution_count": 21,
   "id": "3f1f5b94",
   "metadata": {},
   "outputs": [],
   "source": [
    "models_df = pd.DataFrame(columns=['Model Class','Accuracy','F1-score','Threshold','Parameters'])"
   ]
  },
  {
   "cell_type": "code",
   "execution_count": 22,
   "id": "7bae9728",
   "metadata": {},
   "outputs": [],
   "source": [
    "from sklearn.metrics import classification_report, confusion_matrix, ConfusionMatrixDisplay"
   ]
  },
  {
   "cell_type": "code",
   "execution_count": 23,
   "id": "af3d516e",
   "metadata": {},
   "outputs": [],
   "source": [
    "from sklearn.model_selection import GridSearchCV\n",
    "from sklearn.metrics import log_loss, make_scorer, accuracy_score, f1_score"
   ]
  },
  {
   "cell_type": "code",
   "execution_count": 24,
   "id": "ecba880c",
   "metadata": {},
   "outputs": [],
   "source": [
    "LogLoss = make_scorer(log_loss, greater_is_better=False, needs_proba=True)"
   ]
  },
  {
   "cell_type": "markdown",
   "id": "a662c026",
   "metadata": {},
   "source": [
    "### 1. Decision Trees"
   ]
  },
  {
   "cell_type": "markdown",
   "id": "d70be805",
   "metadata": {},
   "source": [
    "#### First, we will train a vanilla `DecisionTreeClassifier`, then proceed to hyperparameter tuning using `RandomizedSearchCV`"
   ]
  },
  {
   "cell_type": "code",
   "execution_count": 25,
   "id": "a4fdaf0f",
   "metadata": {},
   "outputs": [],
   "source": [
    "from sklearn.tree import DecisionTreeClassifier"
   ]
  },
  {
   "cell_type": "code",
   "execution_count": 26,
   "id": "76b4b0b5",
   "metadata": {},
   "outputs": [
    {
     "data": {
      "text/plain": [
       "DecisionTreeClassifier(random_state=42)"
      ]
     },
     "execution_count": 26,
     "metadata": {},
     "output_type": "execute_result"
    }
   ],
   "source": [
    "model = DecisionTreeClassifier(random_state=42)\n",
    "model.fit(X_train_enc, y_train)"
   ]
  },
  {
   "cell_type": "code",
   "execution_count": 27,
   "id": "b6c816c5",
   "metadata": {},
   "outputs": [],
   "source": [
    "y_pred_train = model.predict(X_train_enc)\n",
    "y_pred       = model.predict(X_test_enc)"
   ]
  },
  {
   "cell_type": "code",
   "execution_count": 28,
   "id": "00512e4b",
   "metadata": {},
   "outputs": [
    {
     "name": "stdout",
     "output_type": "stream",
     "text": [
      "Training :- \n",
      "              precision    recall  f1-score   support\n",
      "\n",
      "         0.0       1.00      1.00      1.00     13959\n",
      "         1.0       1.00      1.00      1.00     14041\n",
      "\n",
      "    accuracy                           1.00     28000\n",
      "   macro avg       1.00      1.00      1.00     28000\n",
      "weighted avg       1.00      1.00      1.00     28000\n",
      "\n",
      "Testing :- \n",
      "              precision    recall  f1-score   support\n",
      "\n",
      "         0.0       0.52      0.51      0.51      6041\n",
      "         1.0       0.51      0.51      0.51      5959\n",
      "\n",
      "    accuracy                           0.51     12000\n",
      "   macro avg       0.51      0.51      0.51     12000\n",
      "weighted avg       0.51      0.51      0.51     12000\n",
      "\n"
     ]
    }
   ],
   "source": [
    "print('Training :- ')\n",
    "print(classification_report(y_train, y_pred_train))\n",
    "print('Testing :- ')\n",
    "print(classification_report(y_test, y_pred))"
   ]
  },
  {
   "cell_type": "markdown",
   "id": "447e7dc0",
   "metadata": {},
   "source": [
    "We can very well see that the accuracy on the training set is 100% but the accuracy on the test set is half of it. Hence, overfitting."
   ]
  },
  {
   "cell_type": "code",
   "execution_count": 29,
   "id": "539ce153",
   "metadata": {},
   "outputs": [
    {
     "data": {
      "image/png": "[encoded data removed]",
      "text/plain": [
       "<Figure size 432x288 with 2 Axes>"
      ]
     },
     "metadata": {
      "needs_background": "light"
     },
     "output_type": "display_data"
    }
   ],
   "source": [
    "classes = [0,1]\n",
    "cm = confusion_matrix(y_test, y_pred, labels=classes)\n",
    "disp = ConfusionMatrixDisplay(confusion_matrix=cm, display_labels=classes)\n",
    "disp.plot()\n",
    "plt.show()"
   ]
  },
  {
   "cell_type": "markdown",
   "id": "6dc01fe1",
   "metadata": {},
   "source": [
    "The confusion matrix shows that that model is generating lots of false positives and negatives."
   ]
  },
  {
   "cell_type": "code",
   "execution_count": 30,
   "id": "e4fbe1e8",
   "metadata": {},
   "outputs": [
    {
     "name": "stdout",
     "output_type": "stream",
     "text": [
      "Max depth of the Tree is  49\n"
     ]
    }
   ],
   "source": [
    "print('Max depth of the Tree is ', model.tree_.max_depth)"
   ]
  },
  {
   "cell_type": "code",
   "execution_count": 31,
   "id": "9d3aeb9f",
   "metadata": {},
   "outputs": [
    {
     "name": "stdout",
     "output_type": "stream",
     "text": [
      "Log loss for the test data :  16.82901879842023\n"
     ]
    }
   ],
   "source": [
    "print('Log loss for the test data : ', log_loss(y_test, model.predict_proba(X_test_enc)))"
   ]
  },
  {
   "cell_type": "markdown",
   "id": "5331ce63",
   "metadata": {},
   "source": [
    "#### Further more, according to the Evaluation criteria, we are supposed to use Log Loss as the metric."
   ]
  },
  {
   "cell_type": "markdown",
   "id": "d6084a78",
   "metadata": {},
   "source": [
    "Now, we will do the Hyperparameter tuning using `GridSearchCV`"
   ]
  },
  {
   "cell_type": "code",
   "execution_count": 32,
   "id": "c4834f58",
   "metadata": {},
   "outputs": [],
   "source": [
    "param_grid = {\n",
    "    'max_depth': [10, 20, 30],\n",
    "    'min_samples_split': [4000, 5000, 1000],\n",
    "}"
   ]
  },
  {
   "cell_type": "code",
   "execution_count": 33,
   "id": "437332a8",
   "metadata": {},
   "outputs": [
    {
     "data": {
      "text/plain": [
       "GridSearchCV(cv=10, estimator=DecisionTreeClassifier(random_state=42),\n",
       "             n_jobs=-1,\n",
       "             param_grid={'max_depth': [10, 20, 30],\n",
       "                         'min_samples_split': [4000, 5000, 1000]},\n",
       "             scoring=make_scorer(log_loss, greater_is_better=False, needs_proba=True))"
      ]
     },
     "execution_count": 33,
     "metadata": {},
     "output_type": "execute_result"
    }
   ],
   "source": [
    "model = DecisionTreeClassifier(random_state=42)\n",
    "grid_search = GridSearchCV(model, param_grid, cv=10, n_jobs=-1, scoring=LogLoss)\n",
    "grid_search.fit(X_train_enc, y_train)"
   ]
  },
  {
   "cell_type": "code",
   "execution_count": 34,
   "id": "3ce792e8",
   "metadata": {},
   "outputs": [
    {
     "data": {
      "text/plain": [
       "({'max_depth': 10, 'min_samples_split': 5000}, -0.6961482261993289)"
      ]
     },
     "execution_count": 34,
     "metadata": {},
     "output_type": "execute_result"
    }
   ],
   "source": [
    "grid_search.best_params_, grid_search.best_score_"
   ]
  },
  {
   "cell_type": "markdown",
   "id": "b20a844c",
   "metadata": {},
   "source": [
    "#### Let's see the log loss and accuracy on the test data."
   ]
  },
  {
   "cell_type": "code",
   "execution_count": 35,
   "id": "98ce8c8c",
   "metadata": {},
   "outputs": [],
   "source": [
    "y_pred  = grid_search.predict_proba(X_test_enc)\n",
    "y_pred_ = grid_search.predict(X_test_enc)"
   ]
  },
  {
   "cell_type": "code",
   "execution_count": 36,
   "id": "4114d893",
   "metadata": {},
   "outputs": [
    {
     "data": {
      "text/plain": [
       "array([0.33018868, 0.36723164, 0.40883978, 0.44863563, 0.45887446,\n",
       "       0.46953782, 0.47957325, 0.47970942, 0.48104265, 0.48603122,\n",
       "       0.49078404, 0.49241379, 0.50758621, 0.50921596, 0.51396878,\n",
       "       0.51895735, 0.52029058, 0.52042675, 0.53046218, 0.54112554,\n",
       "       0.55136437, 0.59116022, 0.63276836, 0.66981132])"
      ]
     },
     "execution_count": 36,
     "metadata": {},
     "output_type": "execute_result"
    }
   ],
   "source": [
    "np.unique(y_pred)"
   ]
  },
  {
   "cell_type": "code",
   "execution_count": 37,
   "id": "55222f8d",
   "metadata": {},
   "outputs": [
    {
     "name": "stdout",
     "output_type": "stream",
     "text": [
      "Accuracy for our Test data comes out to be 0.5048333333333334\n",
      "F1 Score for our Test data comes out to be [0.47822269 0.5288614 ]\n",
      "Log Loss for our Test data comes out to be 0.6947810496332056\n"
     ]
    }
   ],
   "source": [
    "print('Accuracy for our Test data comes out to be', accuracy_score(y_test, y_pred_))\n",
    "print('F1 Score for our Test data comes out to be', f1_score(y_test, y_pred_, average=None))\n",
    "print('Log Loss for our Test data comes out to be', log_loss(y_test, y_pred))"
   ]
  },
  {
   "cell_type": "code",
   "execution_count": 38,
   "id": "95375052",
   "metadata": {},
   "outputs": [
    {
     "data": {
      "image/png": "[encoded data removed]",
      "text/plain": [
       "<Figure size 432x288 with 2 Axes>"
      ]
     },
     "metadata": {
      "needs_background": "light"
     },
     "output_type": "display_data"
    }
   ],
   "source": [
    "classes = [0,1]\n",
    "cm = confusion_matrix(y_test, y_pred_, labels=classes)\n",
    "disp = ConfusionMatrixDisplay(confusion_matrix=cm, display_labels=classes)\n",
    "disp.plot()\n",
    "plt.show()"
   ]
  },
  {
   "cell_type": "markdown",
   "id": "a8e3f88e",
   "metadata": {},
   "source": [
    "The model accuracy is pretty low but we can't help it anyway here as the criteria is log loss."
   ]
  },
  {
   "cell_type": "markdown",
   "id": "572086a8",
   "metadata": {},
   "source": [
    "Threshold as 0.5 is not working well in this case."
   ]
  },
  {
   "cell_type": "code",
   "execution_count": 39,
   "id": "0f9e1467",
   "metadata": {},
   "outputs": [],
   "source": [
    "def post_predict(y_pred, thres):\n",
    "    temp = (np.array(y_pred) > thres).sum(axis=1)     \n",
    "    y_pred_ = (temp == 2).astype(np.int16)\n",
    "    return y_pred_"
   ]
  },
  {
   "cell_type": "code",
   "execution_count": 40,
   "id": "d63dad53",
   "metadata": {},
   "outputs": [],
   "source": [
    "def tuning_proba(y_pred, y_test):\n",
    "    f1_max = 0\n",
    "    thres = 0\n",
    "    for i in np.linspace(0.4, 0.6, 100):\n",
    "        y_pred_ = post_predict(y_pred, i)\n",
    "        f1 = f1_score(y_test, y_pred_, average=None).sum()\n",
    "        if f1_max < f1:\n",
    "            f1_max = f1\n",
    "            thres = i\n",
    "    return thres, f1_max"
   ]
  },
  {
   "cell_type": "code",
   "execution_count": 41,
   "id": "11a53e10",
   "metadata": {},
   "outputs": [
    {
     "data": {
      "text/plain": [
       "0.4808080808080808"
      ]
     },
     "execution_count": 41,
     "metadata": {},
     "output_type": "execute_result"
    }
   ],
   "source": [
    "thres, _ = tuning_proba(y_pred, y_test)\n",
    "thres"
   ]
  },
  {
   "cell_type": "code",
   "execution_count": 42,
   "id": "6e508271",
   "metadata": {},
   "outputs": [
    {
     "name": "stdout",
     "output_type": "stream",
     "text": [
      "Accuracy for our Test data comes out to be 0.5014166666666666\n",
      "F1 Score for our Test data comes out to be [0.51035273 0.49214837]\n"
     ]
    }
   ],
   "source": [
    "y_pred_ = post_predict(y_pred, thres)\n",
    "print('Accuracy for our Test data comes out to be', accuracy_score(y_test, y_pred_))\n",
    "print('F1 Score for our Test data comes out to be', f1_score(y_test, y_pred_, average=None))"
   ]
  },
  {
   "cell_type": "code",
   "execution_count": 43,
   "id": "6d46e0f7",
   "metadata": {},
   "outputs": [
    {
     "data": {
      "image/png": "[encoded data removed]",
      "text/plain": [
       "<Figure size 432x288 with 2 Axes>"
      ]
     },
     "metadata": {
      "needs_background": "light"
     },
     "output_type": "display_data"
    }
   ],
   "source": [
    "classes = [0,1]\n",
    "cm = confusion_matrix(y_test, y_pred_, labels=classes)\n",
    "disp = ConfusionMatrixDisplay(confusion_matrix=cm, display_labels=classes)\n",
    "disp.plot()\n",
    "plt.show()"
   ]
  },
  {
   "cell_type": "code",
   "execution_count": 44,
   "id": "1be5ddfe",
   "metadata": {},
   "outputs": [
    {
     "name": "stderr",
     "output_type": "stream",
     "text": [
      "C:\\Users\\Msc 2\\AppData\\Local\\Temp\\ipykernel_6744\\1593412142.py:1: FutureWarning: The frame.append method is deprecated and will be removed from pandas in a future version. Use pandas.concat instead.\n",
      "  models_df = models_df.append({\n"
     ]
    }
   ],
   "source": [
    "models_df = models_df.append({\n",
    "                'Model Class' : 'Decision Trees',\n",
    "                'Accuracy'    : accuracy_score(y_test, y_pred_),\n",
    "                'F1-score'    : str(f1_score(y_test, y_pred_, average=None)),\n",
    "                'Threshold'   : thres,\n",
    "                'Parameters'  : str(grid_search.best_params_),\n",
    "                'Log Loss'    : log_loss(y_test, y_pred)\n",
    "               }, ignore_index = True)"
   ]
  },
  {
   "cell_type": "code",
   "execution_count": 45,
   "id": "424d03dc",
   "metadata": {},
   "outputs": [
    {
     "data": {
      "text/html": [
       "<div>\n",
       "<style scoped>\n",
       "    .dataframe tbody tr th:only-of-type {\n",
       "        vertical-align: middle;\n",
       "    }\n",
       "\n",
       "    .dataframe tbody tr th {\n",
       "        vertical-align: top;\n",
       "    }\n",
       "\n",
       "    .dataframe thead th {\n",
       "        text-align: right;\n",
       "    }\n",
       "</style>\n",
       "<table border=\"1\" class=\"dataframe\">\n",
       "  <thead>\n",
       "    <tr style=\"text-align: right;\">\n",
       "      <th></th>\n",
       "      <th>Model Class</th>\n",
       "      <th>Accuracy</th>\n",
       "      <th>F1-score</th>\n",
       "      <th>Threshold</th>\n",
       "      <th>Parameters</th>\n",
       "      <th>Log Loss</th>\n",
       "    </tr>\n",
       "  </thead>\n",
       "  <tbody>\n",
       "    <tr>\n",
       "      <th>0</th>\n",
       "      <td>Decision Trees</td>\n",
       "      <td>0.501417</td>\n",
       "      <td>[0.51035273 0.49214837]</td>\n",
       "      <td>0.480808</td>\n",
       "      <td>{'max_depth': 10, 'min_samples_split': 5000}</td>\n",
       "      <td>0.694781</td>\n",
       "    </tr>\n",
       "  </tbody>\n",
       "</table>\n",
       "</div>"
      ],
      "text/plain": [
       "      Model Class  Accuracy                 F1-score Threshold  \\\n",
       "0  Decision Trees  0.501417  [0.51035273 0.49214837]  0.480808   \n",
       "\n",
       "                                     Parameters  Log Loss  \n",
       "0  {'max_depth': 10, 'min_samples_split': 5000}  0.694781  "
      ]
     },
     "execution_count": 45,
     "metadata": {},
     "output_type": "execute_result"
    }
   ],
   "source": [
    "models_df"
   ]
  },
  {
   "cell_type": "markdown",
   "id": "bd96d495",
   "metadata": {},
   "source": [
    "This is the best that can be done with decision trees, with the minimum log loss."
   ]
  },
  {
   "cell_type": "markdown",
   "id": "ba881ed4",
   "metadata": {},
   "source": [
    "### 2. Random Forest"
   ]
  },
  {
   "cell_type": "code",
   "execution_count": 46,
   "id": "6c7766b6",
   "metadata": {},
   "outputs": [],
   "source": [
    "from sklearn.ensemble import RandomForestClassifier"
   ]
  },
  {
   "cell_type": "code",
   "execution_count": 47,
   "id": "e9690d23",
   "metadata": {},
   "outputs": [
    {
     "data": {
      "text/plain": [
       "RandomForestClassifier(random_state=42)"
      ]
     },
     "execution_count": 47,
     "metadata": {},
     "output_type": "execute_result"
    }
   ],
   "source": [
    "model = RandomForestClassifier(random_state=42)\n",
    "model.fit(X_train_enc, y_train)"
   ]
  },
  {
   "cell_type": "code",
   "execution_count": 48,
   "id": "92738080",
   "metadata": {},
   "outputs": [],
   "source": [
    "y_pred_train = model.predict(X_train_enc)\n",
    "y_pred       = model.predict(X_test_enc)"
   ]
  },
  {
   "cell_type": "code",
   "execution_count": 49,
   "id": "951aec73",
   "metadata": {},
   "outputs": [
    {
     "name": "stdout",
     "output_type": "stream",
     "text": [
      "Training :- \n",
      "              precision    recall  f1-score   support\n",
      "\n",
      "         0.0       1.00      1.00      1.00     13959\n",
      "         1.0       1.00      1.00      1.00     14041\n",
      "\n",
      "    accuracy                           1.00     28000\n",
      "   macro avg       1.00      1.00      1.00     28000\n",
      "weighted avg       1.00      1.00      1.00     28000\n",
      "\n",
      "Testing :- \n",
      "              precision    recall  f1-score   support\n",
      "\n",
      "         0.0       0.50      0.51      0.51      6041\n",
      "         1.0       0.50      0.49      0.49      5959\n",
      "\n",
      "    accuracy                           0.50     12000\n",
      "   macro avg       0.50      0.50      0.50     12000\n",
      "weighted avg       0.50      0.50      0.50     12000\n",
      "\n"
     ]
    }
   ],
   "source": [
    "print('Training :- ')\n",
    "print(classification_report(y_train, y_pred_train))\n",
    "print('Testing :- ')\n",
    "print(classification_report(y_test, y_pred))"
   ]
  },
  {
   "cell_type": "markdown",
   "id": "5c9a66d4",
   "metadata": {},
   "source": [
    "Well again, the accuracy is low on the test set and 1 on train set. Hence, Overfitting."
   ]
  },
  {
   "cell_type": "code",
   "execution_count": 50,
   "id": "aaffa852",
   "metadata": {},
   "outputs": [
    {
     "data": {
      "image/png": "[encoded data removed]",
      "text/plain": [
       "<Figure size 432x288 with 2 Axes>"
      ]
     },
     "metadata": {
      "needs_background": "light"
     },
     "output_type": "display_data"
    }
   ],
   "source": [
    "classes = [0,1]\n",
    "cm = confusion_matrix(y_test, y_pred, labels=classes)\n",
    "disp = ConfusionMatrixDisplay(confusion_matrix=cm, display_labels=classes)\n",
    "disp.plot()\n",
    "plt.show()"
   ]
  },
  {
   "cell_type": "markdown",
   "id": "bf2ca225",
   "metadata": {},
   "source": [
    "In case of Random Forests, we can see that the model is predicting a lot of False Negatives."
   ]
  },
  {
   "cell_type": "code",
   "execution_count": 51,
   "id": "7896de5b",
   "metadata": {
    "scrolled": true
   },
   "outputs": [
    {
     "name": "stdout",
     "output_type": "stream",
     "text": [
      "Average Max depth of the Trees is  38.7\n"
     ]
    }
   ],
   "source": [
    "print('Average Max depth of the Trees is ', sum([estimator.tree_.max_depth for estimator in model.estimators_])/100)"
   ]
  },
  {
   "cell_type": "code",
   "execution_count": 52,
   "id": "b799956c",
   "metadata": {
    "scrolled": true
   },
   "outputs": [
    {
     "name": "stdout",
     "output_type": "stream",
     "text": [
      "Log loss for the test data :  0.7111013673286825\n"
     ]
    }
   ],
   "source": [
    "print('Log loss for the test data : ', log_loss(y_test, model.predict_proba(X_test_enc)))"
   ]
  },
  {
   "cell_type": "markdown",
   "id": "854418ed",
   "metadata": {},
   "source": [
    "Now, we will do the Hyperparameter tuning using `GridSearchCV`"
   ]
  },
  {
   "cell_type": "code",
   "execution_count": 53,
   "id": "573021e6",
   "metadata": {
    "scrolled": true
   },
   "outputs": [],
   "source": [
    "param_grid = {\n",
    "    'n_estimators': [50, 70],\n",
    "    'max_depth': [10, 20, 30],\n",
    "    'min_samples_split': [4000, 5000, 1000],\n",
    "}"
   ]
  },
  {
   "cell_type": "code",
   "execution_count": 54,
   "id": "b95719cc",
   "metadata": {
    "scrolled": false
   },
   "outputs": [
    {
     "data": {
      "text/plain": [
       "GridSearchCV(cv=10, estimator=RandomForestClassifier(random_state=42),\n",
       "             n_jobs=-1,\n",
       "             param_grid={'max_depth': [10, 20, 30],\n",
       "                         'min_samples_split': [4000, 5000, 1000],\n",
       "                         'n_estimators': [50, 70]},\n",
       "             scoring=make_scorer(log_loss, greater_is_better=False, needs_proba=True))"
      ]
     },
     "execution_count": 54,
     "metadata": {},
     "output_type": "execute_result"
    }
   ],
   "source": [
    "model = RandomForestClassifier(random_state=42)\n",
    "grid_search = GridSearchCV(model, param_grid, cv=10, n_jobs=-1, scoring=LogLoss)\n",
    "grid_search.fit(X_train_enc, y_train)"
   ]
  },
  {
   "cell_type": "code",
   "execution_count": 55,
   "id": "2e61f73c",
   "metadata": {},
   "outputs": [
    {
     "data": {
      "text/plain": [
       "({'max_depth': 10, 'min_samples_split': 4000, 'n_estimators': 70},\n",
       " -0.6930412127314265)"
      ]
     },
     "execution_count": 55,
     "metadata": {},
     "output_type": "execute_result"
    }
   ],
   "source": [
    "grid_search.best_params_, grid_search.best_score_"
   ]
  },
  {
   "cell_type": "markdown",
   "id": "e499f057",
   "metadata": {},
   "source": [
    "#### Let's see the log loss and accuracy on the test data."
   ]
  },
  {
   "cell_type": "code",
   "execution_count": 56,
   "id": "d9a34b16",
   "metadata": {
    "scrolled": true
   },
   "outputs": [],
   "source": [
    "y_pred  = grid_search.predict_proba(X_test_enc)\n",
    "y_pred_ = grid_search.predict(X_test_enc)"
   ]
  },
  {
   "cell_type": "code",
   "execution_count": 57,
   "id": "598620ab",
   "metadata": {},
   "outputs": [
    {
     "name": "stdout",
     "output_type": "stream",
     "text": [
      "Accuracy for our Test data comes out to be 0.5010833333333333\n",
      "F1 Score for our Test data comes out to be [0.46663697 0.53135029]\n",
      "Log Loss for our Test data comes out to be 0.6932105064446141\n"
     ]
    }
   ],
   "source": [
    "print('Accuracy for our Test data comes out to be', accuracy_score(y_test, y_pred_))\n",
    "print('F1 Score for our Test data comes out to be', f1_score(y_test, y_pred_, average=None))\n",
    "print('Log Loss for our Test data comes out to be', log_loss(y_test, y_pred))"
   ]
  },
  {
   "cell_type": "code",
   "execution_count": 58,
   "id": "d059a61e",
   "metadata": {},
   "outputs": [
    {
     "data": {
      "image/png": "[encoded data removed]",
      "text/plain": [
       "<Figure size 432x288 with 2 Axes>"
      ]
     },
     "metadata": {
      "needs_background": "light"
     },
     "output_type": "display_data"
    }
   ],
   "source": [
    "classes = [0,1]\n",
    "cm = confusion_matrix(y_test, y_pred_, labels=classes)\n",
    "disp = ConfusionMatrixDisplay(confusion_matrix=cm, display_labels=classes)\n",
    "disp.plot()\n",
    "plt.show()"
   ]
  },
  {
   "cell_type": "markdown",
   "id": "171963a6",
   "metadata": {},
   "source": [
    "Clearly, 0.5 as a threshold is not working so we would need to tune it, in a way that maximizes F1 score.\n",
    "And, we have to lower the probability threshold, so that the model can classify some of the positives correctly."
   ]
  },
  {
   "cell_type": "code",
   "execution_count": 59,
   "id": "aaffe093",
   "metadata": {},
   "outputs": [
    {
     "data": {
      "text/plain": [
       "0.49292929292929294"
      ]
     },
     "execution_count": 59,
     "metadata": {},
     "output_type": "execute_result"
    }
   ],
   "source": [
    "thres, _ = tuning_proba(y_pred, y_test)\n",
    "thres"
   ]
  },
  {
   "cell_type": "code",
   "execution_count": 60,
   "id": "0972f619",
   "metadata": {},
   "outputs": [
    {
     "name": "stdout",
     "output_type": "stream",
     "text": [
      "Accuracy for our Test data comes out to be 0.4994166666666667\n",
      "F1 Score for our Test data comes out to be [0.50669295 0.49192252]\n"
     ]
    }
   ],
   "source": [
    "y_pred_ = post_predict(y_pred, thres)\n",
    "print('Accuracy for our Test data comes out to be', accuracy_score(y_test, y_pred_))\n",
    "print('F1 Score for our Test data comes out to be', f1_score(y_test, y_pred_, average=None))"
   ]
  },
  {
   "cell_type": "code",
   "execution_count": 61,
   "id": "22d88ad3",
   "metadata": {
    "scrolled": true
   },
   "outputs": [
    {
     "data": {
      "image/png": "[encoded data removed]",
      "text/plain": [
       "<Figure size 432x288 with 2 Axes>"
      ]
     },
     "metadata": {
      "needs_background": "light"
     },
     "output_type": "display_data"
    }
   ],
   "source": [
    "classes = [0,1]\n",
    "cm = confusion_matrix(y_test, y_pred_, labels=classes)\n",
    "disp = ConfusionMatrixDisplay(confusion_matrix=cm, display_labels=classes)\n",
    "disp.plot()\n",
    "plt.show()"
   ]
  },
  {
   "cell_type": "code",
   "execution_count": 62,
   "id": "b3e14b0b",
   "metadata": {},
   "outputs": [
    {
     "name": "stderr",
     "output_type": "stream",
     "text": [
      "C:\\Users\\Msc 2\\AppData\\Local\\Temp\\ipykernel_6744\\2796668437.py:1: FutureWarning: The frame.append method is deprecated and will be removed from pandas in a future version. Use pandas.concat instead.\n",
      "  models_df = models_df.append({\n"
     ]
    }
   ],
   "source": [
    "models_df = models_df.append({\n",
    "                'Model Class' : 'Random Forest',\n",
    "                'Accuracy'    : accuracy_score(y_test, y_pred_),\n",
    "                'F1-score'    : str(f1_score(y_test, y_pred_, average=None)),\n",
    "                'Threshold'   : thres,\n",
    "                'Parameters'  : str(grid_search.best_params_),\n",
    "                'Log Loss'    : log_loss(y_test, y_pred)\n",
    "               }, ignore_index = True)"
   ]
  },
  {
   "cell_type": "code",
   "execution_count": 63,
   "id": "7b40ec95",
   "metadata": {},
   "outputs": [
    {
     "data": {
      "text/html": [
       "<div>\n",
       "<style scoped>\n",
       "    .dataframe tbody tr th:only-of-type {\n",
       "        vertical-align: middle;\n",
       "    }\n",
       "\n",
       "    .dataframe tbody tr th {\n",
       "        vertical-align: top;\n",
       "    }\n",
       "\n",
       "    .dataframe thead th {\n",
       "        text-align: right;\n",
       "    }\n",
       "</style>\n",
       "<table border=\"1\" class=\"dataframe\">\n",
       "  <thead>\n",
       "    <tr style=\"text-align: right;\">\n",
       "      <th></th>\n",
       "      <th>Model Class</th>\n",
       "      <th>Accuracy</th>\n",
       "      <th>F1-score</th>\n",
       "      <th>Threshold</th>\n",
       "      <th>Parameters</th>\n",
       "      <th>Log Loss</th>\n",
       "    </tr>\n",
       "  </thead>\n",
       "  <tbody>\n",
       "    <tr>\n",
       "      <th>0</th>\n",
       "      <td>Decision Trees</td>\n",
       "      <td>0.501417</td>\n",
       "      <td>[0.51035273 0.49214837]</td>\n",
       "      <td>0.480808</td>\n",
       "      <td>{'max_depth': 10, 'min_samples_split': 5000}</td>\n",
       "      <td>0.694781</td>\n",
       "    </tr>\n",
       "    <tr>\n",
       "      <th>1</th>\n",
       "      <td>Random Forest</td>\n",
       "      <td>0.499417</td>\n",
       "      <td>[0.50669295 0.49192252]</td>\n",
       "      <td>0.492929</td>\n",
       "      <td>{'max_depth': 10, 'min_samples_split': 4000, '...</td>\n",
       "      <td>0.693211</td>\n",
       "    </tr>\n",
       "  </tbody>\n",
       "</table>\n",
       "</div>"
      ],
      "text/plain": [
       "      Model Class  Accuracy                 F1-score Threshold  \\\n",
       "0  Decision Trees  0.501417  [0.51035273 0.49214837]  0.480808   \n",
       "1   Random Forest  0.499417  [0.50669295 0.49192252]  0.492929   \n",
       "\n",
       "                                          Parameters  Log Loss  \n",
       "0       {'max_depth': 10, 'min_samples_split': 5000}  0.694781  \n",
       "1  {'max_depth': 10, 'min_samples_split': 4000, '...  0.693211  "
      ]
     },
     "execution_count": 63,
     "metadata": {},
     "output_type": "execute_result"
    }
   ],
   "source": [
    "models_df"
   ]
  },
  {
   "cell_type": "markdown",
   "id": "5600a4dc",
   "metadata": {},
   "source": [
    "### 3. AdaBoost"
   ]
  },
  {
   "cell_type": "code",
   "execution_count": 64,
   "id": "db4a987b",
   "metadata": {},
   "outputs": [],
   "source": [
    "from sklearn.ensemble import AdaBoostClassifier"
   ]
  },
  {
   "cell_type": "code",
   "execution_count": 65,
   "id": "ec3f4134",
   "metadata": {},
   "outputs": [
    {
     "data": {
      "text/plain": [
       "AdaBoostClassifier(random_state=42)"
      ]
     },
     "execution_count": 65,
     "metadata": {},
     "output_type": "execute_result"
    }
   ],
   "source": [
    "model = AdaBoostClassifier(random_state=42)\n",
    "model.fit(X_train_enc, y_train)"
   ]
  },
  {
   "cell_type": "code",
   "execution_count": 66,
   "id": "53ac9599",
   "metadata": {},
   "outputs": [],
   "source": [
    "y_pred_train = model.predict(X_train_enc)\n",
    "y_pred       = model.predict(X_test_enc)"
   ]
  },
  {
   "cell_type": "code",
   "execution_count": 67,
   "id": "7196bba1",
   "metadata": {},
   "outputs": [
    {
     "name": "stdout",
     "output_type": "stream",
     "text": [
      "Training :- \n",
      "              precision    recall  f1-score   support\n",
      "\n",
      "         0.0       0.53      0.49      0.51     13959\n",
      "         1.0       0.53      0.57      0.55     14041\n",
      "\n",
      "    accuracy                           0.53     28000\n",
      "   macro avg       0.53      0.53      0.53     28000\n",
      "weighted avg       0.53      0.53      0.53     28000\n",
      "\n",
      "Testing :- \n",
      "              precision    recall  f1-score   support\n",
      "\n",
      "         0.0       0.50      0.46      0.48      6041\n",
      "         1.0       0.49      0.53      0.51      5959\n",
      "\n",
      "    accuracy                           0.50     12000\n",
      "   macro avg       0.50      0.50      0.50     12000\n",
      "weighted avg       0.50      0.50      0.50     12000\n",
      "\n"
     ]
    }
   ],
   "source": [
    "print('Training :- ')\n",
    "print(classification_report(y_train, y_pred_train))\n",
    "print('Testing :- ')\n",
    "print(classification_report(y_test, y_pred))"
   ]
  },
  {
   "cell_type": "markdown",
   "id": "154c02a3",
   "metadata": {},
   "source": [
    "Well, the accuracy is low on both the training and test set. Hence, Underfitting."
   ]
  },
  {
   "cell_type": "code",
   "execution_count": 68,
   "id": "bf8e108b",
   "metadata": {},
   "outputs": [
    {
     "data": {
      "image/png": "[encoded data removed]",
      "text/plain": [
       "<Figure size 432x288 with 2 Axes>"
      ]
     },
     "metadata": {
      "needs_background": "light"
     },
     "output_type": "display_data"
    }
   ],
   "source": [
    "classes = [0,1]\n",
    "cm = confusion_matrix(y_test, y_pred, labels=classes)\n",
    "disp = ConfusionMatrixDisplay(confusion_matrix=cm, display_labels=classes)\n",
    "disp.plot()\n",
    "plt.show()"
   ]
  },
  {
   "cell_type": "markdown",
   "id": "6492cfb2",
   "metadata": {},
   "source": [
    "In case of AdaBoost, we can see that the model is as good as giving zeros for every input."
   ]
  },
  {
   "cell_type": "code",
   "execution_count": 69,
   "id": "f0e59296",
   "metadata": {
    "scrolled": true
   },
   "outputs": [
    {
     "name": "stdout",
     "output_type": "stream",
     "text": [
      "Log loss for the test data :  0.6930812353815596\n"
     ]
    }
   ],
   "source": [
    "print('Log loss for the test data : ', log_loss(y_test, model.predict_proba(X_test_enc)))"
   ]
  },
  {
   "cell_type": "markdown",
   "id": "83e6793a",
   "metadata": {},
   "source": [
    "Now, we will do the Hyperparameter tuning using `GridSearchCV`"
   ]
  },
  {
   "cell_type": "code",
   "execution_count": 70,
   "id": "b4552d3f",
   "metadata": {
    "scrolled": true
   },
   "outputs": [],
   "source": [
    "param_grid = {\n",
    "    'n_estimators': [50, 70, 100],\n",
    "    'algorithm': ['SAMME.R'],\n",
    "    'learning_rate': [1e-3, 1e-5, 1e-7]\n",
    "}"
   ]
  },
  {
   "cell_type": "code",
   "execution_count": 71,
   "id": "b2211799",
   "metadata": {
    "scrolled": false
   },
   "outputs": [
    {
     "data": {
      "text/plain": [
       "GridSearchCV(cv=10, estimator=AdaBoostClassifier(random_state=42), n_jobs=-1,\n",
       "             param_grid={'algorithm': ['SAMME.R'],\n",
       "                         'learning_rate': [0.001, 1e-05, 1e-07],\n",
       "                         'n_estimators': [50, 70, 100]},\n",
       "             scoring=make_scorer(log_loss, greater_is_better=False, needs_proba=True))"
      ]
     },
     "execution_count": 71,
     "metadata": {},
     "output_type": "execute_result"
    }
   ],
   "source": [
    "model = AdaBoostClassifier(random_state=42)\n",
    "grid_search = GridSearchCV(model, param_grid, cv=10, n_jobs=-1, scoring=LogLoss)\n",
    "grid_search.fit(X_train_enc, y_train)"
   ]
  },
  {
   "cell_type": "code",
   "execution_count": 72,
   "id": "f0d7e0f3",
   "metadata": {},
   "outputs": [
    {
     "data": {
      "text/plain": [
       "({'algorithm': 'SAMME.R', 'learning_rate': 0.001, 'n_estimators': 100},\n",
       " -0.6934201279612605)"
      ]
     },
     "execution_count": 72,
     "metadata": {},
     "output_type": "execute_result"
    }
   ],
   "source": [
    "grid_search.best_params_, grid_search.best_score_"
   ]
  },
  {
   "cell_type": "markdown",
   "id": "04f46868",
   "metadata": {},
   "source": [
    "#### Let's see the log loss and accuracy on the test data."
   ]
  },
  {
   "cell_type": "code",
   "execution_count": 73,
   "id": "ad04d1a2",
   "metadata": {
    "scrolled": true
   },
   "outputs": [],
   "source": [
    "y_pred  = grid_search.predict_proba(X_test_enc)\n",
    "y_pred_ = grid_search.predict(X_test_enc)"
   ]
  },
  {
   "cell_type": "code",
   "execution_count": 74,
   "id": "3b3c33b1",
   "metadata": {},
   "outputs": [
    {
     "data": {
      "text/plain": [
       "array([0.47687419, 0.48555166, 0.49231204, 0.4989986 , 0.5010014 ,\n",
       "       0.50768796, 0.51444834, 0.52312581])"
      ]
     },
     "execution_count": 74,
     "metadata": {},
     "output_type": "execute_result"
    }
   ],
   "source": [
    "np.unique(y_pred)"
   ]
  },
  {
   "cell_type": "code",
   "execution_count": 75,
   "id": "fe61e2f9",
   "metadata": {},
   "outputs": [
    {
     "name": "stdout",
     "output_type": "stream",
     "text": [
      "Accuracy for our Test data comes out to be 0.5035\n",
      "F1 Score for our Test data comes out to be [0.56536329 0.42110377]\n",
      "Log Loss for our Test data comes out to be 0.6931667253484118\n"
     ]
    }
   ],
   "source": [
    "print('Accuracy for our Test data comes out to be', accuracy_score(y_test, y_pred_))\n",
    "print('F1 Score for our Test data comes out to be', f1_score(y_test, y_pred_, average=None))\n",
    "print('Log Loss for our Test data comes out to be', log_loss(y_test, y_pred))"
   ]
  },
  {
   "cell_type": "code",
   "execution_count": 76,
   "id": "ea9f5fde",
   "metadata": {},
   "outputs": [
    {
     "data": {
      "image/png": "[encoded data removed]",
      "text/plain": [
       "<Figure size 432x288 with 2 Axes>"
      ]
     },
     "metadata": {
      "needs_background": "light"
     },
     "output_type": "display_data"
    }
   ],
   "source": [
    "classes = [0,1]\n",
    "cm = confusion_matrix(y_test, y_pred_, labels=classes)\n",
    "disp = ConfusionMatrixDisplay(confusion_matrix=cm, display_labels=classes)\n",
    "disp.plot()\n",
    "plt.show()"
   ]
  },
  {
   "cell_type": "code",
   "execution_count": 77,
   "id": "b592d875",
   "metadata": {},
   "outputs": [
    {
     "name": "stderr",
     "output_type": "stream",
     "text": [
      "C:\\Users\\Msc 2\\AppData\\Local\\Temp\\ipykernel_6744\\2569519969.py:1: FutureWarning: The frame.append method is deprecated and will be removed from pandas in a future version. Use pandas.concat instead.\n",
      "  models_df = models_df.append({\n"
     ]
    }
   ],
   "source": [
    "models_df = models_df.append({\n",
    "                'Model Class' : 'AdaBoost',\n",
    "                'Accuracy'    : accuracy_score(y_test, y_pred_),\n",
    "                'F1-score'    : str(f1_score(y_test, y_pred_, average=None)),\n",
    "                'Threshold'   : None,\n",
    "                'Parameters'  : str(grid_search.best_params_),\n",
    "                'Log Loss'    : log_loss(y_test, y_pred)\n",
    "               }, ignore_index = True)"
   ]
  },
  {
   "cell_type": "code",
   "execution_count": 78,
   "id": "4668bd67",
   "metadata": {},
   "outputs": [
    {
     "data": {
      "text/html": [
       "<div>\n",
       "<style scoped>\n",
       "    .dataframe tbody tr th:only-of-type {\n",
       "        vertical-align: middle;\n",
       "    }\n",
       "\n",
       "    .dataframe tbody tr th {\n",
       "        vertical-align: top;\n",
       "    }\n",
       "\n",
       "    .dataframe thead th {\n",
       "        text-align: right;\n",
       "    }\n",
       "</style>\n",
       "<table border=\"1\" class=\"dataframe\">\n",
       "  <thead>\n",
       "    <tr style=\"text-align: right;\">\n",
       "      <th></th>\n",
       "      <th>Model Class</th>\n",
       "      <th>Accuracy</th>\n",
       "      <th>F1-score</th>\n",
       "      <th>Threshold</th>\n",
       "      <th>Parameters</th>\n",
       "      <th>Log Loss</th>\n",
       "    </tr>\n",
       "  </thead>\n",
       "  <tbody>\n",
       "    <tr>\n",
       "      <th>0</th>\n",
       "      <td>Decision Trees</td>\n",
       "      <td>0.501417</td>\n",
       "      <td>[0.51035273 0.49214837]</td>\n",
       "      <td>0.480808</td>\n",
       "      <td>{'max_depth': 10, 'min_samples_split': 5000}</td>\n",
       "      <td>0.694781</td>\n",
       "    </tr>\n",
       "    <tr>\n",
       "      <th>1</th>\n",
       "      <td>Random Forest</td>\n",
       "      <td>0.499417</td>\n",
       "      <td>[0.50669295 0.49192252]</td>\n",
       "      <td>0.492929</td>\n",
       "      <td>{'max_depth': 10, 'min_samples_split': 4000, '...</td>\n",
       "      <td>0.693211</td>\n",
       "    </tr>\n",
       "    <tr>\n",
       "      <th>2</th>\n",
       "      <td>AdaBoost</td>\n",
       "      <td>0.5035</td>\n",
       "      <td>[0.56536329 0.42110377]</td>\n",
       "      <td>None</td>\n",
       "      <td>{'algorithm': 'SAMME.R', 'learning_rate': 0.00...</td>\n",
       "      <td>0.693167</td>\n",
       "    </tr>\n",
       "  </tbody>\n",
       "</table>\n",
       "</div>"
      ],
      "text/plain": [
       "      Model Class  Accuracy                 F1-score Threshold  \\\n",
       "0  Decision Trees  0.501417  [0.51035273 0.49214837]  0.480808   \n",
       "1   Random Forest  0.499417  [0.50669295 0.49192252]  0.492929   \n",
       "2        AdaBoost    0.5035  [0.56536329 0.42110377]      None   \n",
       "\n",
       "                                          Parameters  Log Loss  \n",
       "0       {'max_depth': 10, 'min_samples_split': 5000}  0.694781  \n",
       "1  {'max_depth': 10, 'min_samples_split': 4000, '...  0.693211  \n",
       "2  {'algorithm': 'SAMME.R', 'learning_rate': 0.00...  0.693167  "
      ]
     },
     "execution_count": 78,
     "metadata": {},
     "output_type": "execute_result"
    }
   ],
   "source": [
    "models_df"
   ]
  },
  {
   "cell_type": "markdown",
   "id": "d218a03c",
   "metadata": {},
   "source": [
    "We will now look at another model that doesn't need any feature scaling. This is not a Tree Based Model."
   ]
  },
  {
   "cell_type": "markdown",
   "id": "23a7a2fa",
   "metadata": {},
   "source": [
    "### 4. Naive Bayes"
   ]
  },
  {
   "cell_type": "code",
   "execution_count": 79,
   "id": "88bfd644",
   "metadata": {},
   "outputs": [],
   "source": [
    "from sklearn.naive_bayes import GaussianNB"
   ]
  },
  {
   "cell_type": "code",
   "execution_count": 80,
   "id": "f9b0949f",
   "metadata": {},
   "outputs": [
    {
     "data": {
      "text/plain": [
       "GaussianNB()"
      ]
     },
     "execution_count": 80,
     "metadata": {},
     "output_type": "execute_result"
    }
   ],
   "source": [
    "model = GaussianNB()\n",
    "model.fit(X_train_enc, y_train)"
   ]
  },
  {
   "cell_type": "code",
   "execution_count": 81,
   "id": "2fb4df3d",
   "metadata": {},
   "outputs": [],
   "source": [
    "y_pred_train = model.predict(X_train_enc)\n",
    "y_pred       = model.predict(X_test_enc)\n",
    "y_pred_      = model.predict_proba(X_test_enc)"
   ]
  },
  {
   "cell_type": "code",
   "execution_count": 82,
   "id": "a25a7e1e",
   "metadata": {
    "scrolled": true
   },
   "outputs": [
    {
     "name": "stdout",
     "output_type": "stream",
     "text": [
      "Training :- \n",
      "              precision    recall  f1-score   support\n",
      "\n",
      "         0.0       0.52      0.30      0.38     13959\n",
      "         1.0       0.51      0.72      0.60     14041\n",
      "\n",
      "    accuracy                           0.51     28000\n",
      "   macro avg       0.51      0.51      0.49     28000\n",
      "weighted avg       0.51      0.51      0.49     28000\n",
      "\n",
      "Testing :- \n",
      "              precision    recall  f1-score   support\n",
      "\n",
      "         0.0       0.51      0.29      0.37      6041\n",
      "         1.0       0.50      0.71      0.59      5959\n",
      "\n",
      "    accuracy                           0.50     12000\n",
      "   macro avg       0.50      0.50      0.48     12000\n",
      "weighted avg       0.50      0.50      0.48     12000\n",
      "\n"
     ]
    }
   ],
   "source": [
    "print('Training :- ')\n",
    "print(classification_report(y_train, y_pred_train))\n",
    "print('Testing :- ')\n",
    "print(classification_report(y_test, y_pred))"
   ]
  },
  {
   "cell_type": "markdown",
   "id": "49261d99",
   "metadata": {},
   "source": [
    "Well, the accuracy is low on both the training and test set. But, we can also notice from the warnings that the f1 score for class 1 is pretty low. Hence, poor model."
   ]
  },
  {
   "cell_type": "code",
   "execution_count": 83,
   "id": "3b9c5148",
   "metadata": {},
   "outputs": [
    {
     "data": {
      "image/png": "[encoded data removed]",
      "text/plain": [
       "<Figure size 432x288 with 2 Axes>"
      ]
     },
     "metadata": {
      "needs_background": "light"
     },
     "output_type": "display_data"
    }
   ],
   "source": [
    "classes = [0,1]\n",
    "cm = confusion_matrix(y_test, y_pred, labels=classes)\n",
    "disp = ConfusionMatrixDisplay(confusion_matrix=cm, display_labels=classes)\n",
    "disp.plot()\n",
    "plt.show()"
   ]
  },
  {
   "cell_type": "markdown",
   "id": "565caae0",
   "metadata": {},
   "source": [
    "In case of Naive Bayes, model is giving lots of false negatives."
   ]
  },
  {
   "cell_type": "code",
   "execution_count": 84,
   "id": "7edbaac1",
   "metadata": {
    "scrolled": true
   },
   "outputs": [
    {
     "name": "stdout",
     "output_type": "stream",
     "text": [
      "Accuracy for our Test data comes out to be 0.49966666666666665\n",
      "F1 Score for our Test data comes out to be [0.36919521 0.58541638]\n",
      "Log Loss for our Test data comes out to be 0.7059818770219857\n"
     ]
    }
   ],
   "source": [
    "print('Accuracy for our Test data comes out to be', accuracy_score(y_test, y_pred))\n",
    "print('F1 Score for our Test data comes out to be', f1_score(y_test, y_pred, average=None))\n",
    "print('Log Loss for our Test data comes out to be', log_loss(y_test, y_pred_))"
   ]
  },
  {
   "cell_type": "code",
   "execution_count": 85,
   "id": "ff23af87",
   "metadata": {},
   "outputs": [
    {
     "name": "stderr",
     "output_type": "stream",
     "text": [
      "C:\\Users\\Msc 2\\AppData\\Local\\Temp\\ipykernel_6744\\3036352362.py:1: FutureWarning: The frame.append method is deprecated and will be removed from pandas in a future version. Use pandas.concat instead.\n",
      "  models_df = models_df.append({\n"
     ]
    }
   ],
   "source": [
    "models_df = models_df.append({\n",
    "                'Model Class' : 'Gaussian Naive Bayes',\n",
    "                'Accuracy'    : accuracy_score(y_test, y_pred),\n",
    "                'F1-score'    : str(f1_score(y_test, y_pred, average=None)),\n",
    "                'Threshold'   : None,\n",
    "                'Parameters'  : None,\n",
    "                'Log Loss'    : log_loss(y_test, y_pred_)\n",
    "               }, ignore_index = True)"
   ]
  },
  {
   "cell_type": "code",
   "execution_count": 86,
   "id": "04c3b8e8",
   "metadata": {
    "scrolled": true
   },
   "outputs": [
    {
     "data": {
      "text/html": [
       "<div>\n",
       "<style scoped>\n",
       "    .dataframe tbody tr th:only-of-type {\n",
       "        vertical-align: middle;\n",
       "    }\n",
       "\n",
       "    .dataframe tbody tr th {\n",
       "        vertical-align: top;\n",
       "    }\n",
       "\n",
       "    .dataframe thead th {\n",
       "        text-align: right;\n",
       "    }\n",
       "</style>\n",
       "<table border=\"1\" class=\"dataframe\">\n",
       "  <thead>\n",
       "    <tr style=\"text-align: right;\">\n",
       "      <th></th>\n",
       "      <th>Model Class</th>\n",
       "      <th>Accuracy</th>\n",
       "      <th>F1-score</th>\n",
       "      <th>Threshold</th>\n",
       "      <th>Parameters</th>\n",
       "      <th>Log Loss</th>\n",
       "    </tr>\n",
       "  </thead>\n",
       "  <tbody>\n",
       "    <tr>\n",
       "      <th>0</th>\n",
       "      <td>Decision Trees</td>\n",
       "      <td>0.501417</td>\n",
       "      <td>[0.51035273 0.49214837]</td>\n",
       "      <td>0.480808</td>\n",
       "      <td>{'max_depth': 10, 'min_samples_split': 5000}</td>\n",
       "      <td>0.694781</td>\n",
       "    </tr>\n",
       "    <tr>\n",
       "      <th>1</th>\n",
       "      <td>Random Forest</td>\n",
       "      <td>0.499417</td>\n",
       "      <td>[0.50669295 0.49192252]</td>\n",
       "      <td>0.492929</td>\n",
       "      <td>{'max_depth': 10, 'min_samples_split': 4000, '...</td>\n",
       "      <td>0.693211</td>\n",
       "    </tr>\n",
       "    <tr>\n",
       "      <th>2</th>\n",
       "      <td>AdaBoost</td>\n",
       "      <td>0.5035</td>\n",
       "      <td>[0.56536329 0.42110377]</td>\n",
       "      <td>None</td>\n",
       "      <td>{'algorithm': 'SAMME.R', 'learning_rate': 0.00...</td>\n",
       "      <td>0.693167</td>\n",
       "    </tr>\n",
       "    <tr>\n",
       "      <th>3</th>\n",
       "      <td>Gaussian Naive Bayes</td>\n",
       "      <td>0.499667</td>\n",
       "      <td>[0.36919521 0.58541638]</td>\n",
       "      <td>None</td>\n",
       "      <td>None</td>\n",
       "      <td>0.705982</td>\n",
       "    </tr>\n",
       "  </tbody>\n",
       "</table>\n",
       "</div>"
      ],
      "text/plain": [
       "            Model Class  Accuracy                 F1-score Threshold  \\\n",
       "0        Decision Trees  0.501417  [0.51035273 0.49214837]  0.480808   \n",
       "1         Random Forest  0.499417  [0.50669295 0.49192252]  0.492929   \n",
       "2              AdaBoost    0.5035  [0.56536329 0.42110377]      None   \n",
       "3  Gaussian Naive Bayes  0.499667  [0.36919521 0.58541638]      None   \n",
       "\n",
       "                                          Parameters  Log Loss  \n",
       "0       {'max_depth': 10, 'min_samples_split': 5000}  0.694781  \n",
       "1  {'max_depth': 10, 'min_samples_split': 4000, '...  0.693211  \n",
       "2  {'algorithm': 'SAMME.R', 'learning_rate': 0.00...  0.693167  \n",
       "3                                               None  0.705982  "
      ]
     },
     "execution_count": 86,
     "metadata": {},
     "output_type": "execute_result"
    }
   ],
   "source": [
    "models_df"
   ]
  },
  {
   "cell_type": "markdown",
   "id": "3e2e190f",
   "metadata": {},
   "source": [
    "We have tried all our tree based models. Now, it is time to proceed to further feature engineering before we head into further modelling techniques such as `Logistic Regression`, `K-Nearest Neighbours` and `Support Vector Machines`."
   ]
  },
  {
   "cell_type": "markdown",
   "id": "eccf9770",
   "metadata": {},
   "source": [
    "## Feature Scaling"
   ]
  },
  {
   "cell_type": "code",
   "execution_count": 87,
   "id": "69e898d3",
   "metadata": {},
   "outputs": [],
   "source": [
    "from sklearn.preprocessing import StandardScaler, MinMaxScaler"
   ]
  },
  {
   "cell_type": "code",
   "execution_count": 88,
   "id": "98aa5a1e",
   "metadata": {},
   "outputs": [],
   "source": [
    "tf_scale = ColumnTransformer(transformers=[\n",
    "    ('scaler', StandardScaler(), slice(0,18))\n",
    "], remainder='passthrough')"
   ]
  },
  {
   "cell_type": "code",
   "execution_count": 89,
   "id": "d2a0ee55",
   "metadata": {},
   "outputs": [],
   "source": [
    "X_train_sca = tf_scale.fit_transform(X_train_enc)\n",
    "X_test_sca  = tf_scale.fit_transform(X_test_enc)"
   ]
  },
  {
   "cell_type": "markdown",
   "id": "4355d69a",
   "metadata": {},
   "source": [
    "## Modelling"
   ]
  },
  {
   "cell_type": "markdown",
   "id": "b4c288f9",
   "metadata": {},
   "source": [
    "### 5. Logistic Regression"
   ]
  },
  {
   "cell_type": "code",
   "execution_count": 90,
   "id": "6bf29475",
   "metadata": {},
   "outputs": [],
   "source": [
    "from sklearn.linear_model import LogisticRegression"
   ]
  },
  {
   "cell_type": "code",
   "execution_count": 91,
   "id": "ce942122",
   "metadata": {},
   "outputs": [
    {
     "data": {
      "text/plain": [
       "LogisticRegression(random_state=42)"
      ]
     },
     "execution_count": 91,
     "metadata": {},
     "output_type": "execute_result"
    }
   ],
   "source": [
    "model = LogisticRegression(random_state=42)\n",
    "model.fit(X_train_enc, y_train)"
   ]
  },
  {
   "cell_type": "markdown",
   "id": "6cbb5abe",
   "metadata": {},
   "source": [
    "#### Using non scaled data"
   ]
  },
  {
   "cell_type": "code",
   "execution_count": 92,
   "id": "15cd17a0",
   "metadata": {},
   "outputs": [],
   "source": [
    "y_pred_train = model.predict(X_train_enc)\n",
    "y_pred       = model.predict(X_test_enc)"
   ]
  },
  {
   "cell_type": "code",
   "execution_count": 93,
   "id": "fe14c73a",
   "metadata": {
    "scrolled": true
   },
   "outputs": [
    {
     "name": "stdout",
     "output_type": "stream",
     "text": [
      "Training :- \n",
      "              precision    recall  f1-score   support\n",
      "\n",
      "         0.0       0.50      0.24      0.32     13959\n",
      "         1.0       0.50      0.76      0.61     14041\n",
      "\n",
      "    accuracy                           0.50     28000\n",
      "   macro avg       0.50      0.50      0.46     28000\n",
      "weighted avg       0.50      0.50      0.46     28000\n",
      "\n",
      "Testing :- \n",
      "              precision    recall  f1-score   support\n",
      "\n",
      "         0.0       0.50      0.23      0.32      6041\n",
      "         1.0       0.49      0.76      0.60      5959\n",
      "\n",
      "    accuracy                           0.49     12000\n",
      "   macro avg       0.49      0.50      0.46     12000\n",
      "weighted avg       0.49      0.49      0.46     12000\n",
      "\n"
     ]
    }
   ],
   "source": [
    "print('Training :- ')\n",
    "print(classification_report(y_train, y_pred_train))\n",
    "print('Testing :- ')\n",
    "print(classification_report(y_test, y_pred))"
   ]
  },
  {
   "cell_type": "markdown",
   "id": "18dfbd39",
   "metadata": {},
   "source": [
    "#### Using scaled data"
   ]
  },
  {
   "cell_type": "code",
   "execution_count": 94,
   "id": "daa68d9c",
   "metadata": {},
   "outputs": [
    {
     "data": {
      "text/plain": [
       "LogisticRegression(random_state=42)"
      ]
     },
     "execution_count": 94,
     "metadata": {},
     "output_type": "execute_result"
    }
   ],
   "source": [
    "model = LogisticRegression(random_state=42)\n",
    "model.fit(X_train_sca, y_train)"
   ]
  },
  {
   "cell_type": "code",
   "execution_count": 95,
   "id": "f69e60db",
   "metadata": {},
   "outputs": [],
   "source": [
    "y_pred_train = model.predict(X_train_sca)\n",
    "y_pred       = model.predict(X_test_sca)"
   ]
  },
  {
   "cell_type": "code",
   "execution_count": 96,
   "id": "cdf1784b",
   "metadata": {
    "scrolled": true
   },
   "outputs": [
    {
     "name": "stdout",
     "output_type": "stream",
     "text": [
      "Training :- \n",
      "              precision    recall  f1-score   support\n",
      "\n",
      "         0.0       0.52      0.48      0.50     13959\n",
      "         1.0       0.52      0.56      0.54     14041\n",
      "\n",
      "    accuracy                           0.52     28000\n",
      "   macro avg       0.52      0.52      0.52     28000\n",
      "weighted avg       0.52      0.52      0.52     28000\n",
      "\n",
      "Testing :- \n",
      "              precision    recall  f1-score   support\n",
      "\n",
      "         0.0       0.50      0.46      0.48      6041\n",
      "         1.0       0.50      0.54      0.52      5959\n",
      "\n",
      "    accuracy                           0.50     12000\n",
      "   macro avg       0.50      0.50      0.50     12000\n",
      "weighted avg       0.50      0.50      0.50     12000\n",
      "\n"
     ]
    }
   ],
   "source": [
    "print('Training :- ')\n",
    "print(classification_report(y_train, y_pred_train))\n",
    "print('Testing :- ')\n",
    "print(classification_report(y_test, y_pred))"
   ]
  },
  {
   "cell_type": "markdown",
   "id": "bc5c5cb5",
   "metadata": {},
   "source": [
    "We are getting better F1-score for the classes using scaled data with similar accuracies.\n",
    "\n",
    "Again, the same thing using scaled data..."
   ]
  },
  {
   "cell_type": "code",
   "execution_count": 97,
   "id": "17676b92",
   "metadata": {
    "scrolled": true
   },
   "outputs": [
    {
     "data": {
      "image/png": "[encoded data removed]",
      "text/plain": [
       "<Figure size 432x288 with 2 Axes>"
      ]
     },
     "metadata": {
      "needs_background": "light"
     },
     "output_type": "display_data"
    }
   ],
   "source": [
    "classes = [0,1]\n",
    "cm = confusion_matrix(y_test, y_pred, labels=classes)\n",
    "disp = ConfusionMatrixDisplay(confusion_matrix=cm, display_labels=classes)\n",
    "disp.plot()\n",
    "plt.show()"
   ]
  },
  {
   "cell_type": "markdown",
   "id": "a84409ae",
   "metadata": {},
   "source": [
    "Not making much sense."
   ]
  },
  {
   "cell_type": "code",
   "execution_count": 98,
   "id": "44253dc4",
   "metadata": {
    "scrolled": true
   },
   "outputs": [
    {
     "name": "stdout",
     "output_type": "stream",
     "text": [
      "Log loss for the test data :  0.6936783142852261\n"
     ]
    }
   ],
   "source": [
    "print('Log loss for the test data : ', log_loss(y_test, model.predict_proba(X_test_sca)))"
   ]
  },
  {
   "cell_type": "markdown",
   "id": "661ba8a5",
   "metadata": {},
   "source": [
    "Now, we will do the Hyperparameter tuning using `GridSearchCV`"
   ]
  },
  {
   "cell_type": "code",
   "execution_count": 99,
   "id": "a4c290f0",
   "metadata": {
    "scrolled": true
   },
   "outputs": [],
   "source": [
    "param_grid = {\n",
    "    'solver': ['lbfgs'],\n",
    "    'penalty': ['l2', 'none'],\n",
    "    'max_iter': [100, 50],\n",
    "}"
   ]
  },
  {
   "cell_type": "code",
   "execution_count": 100,
   "id": "534e2618",
   "metadata": {
    "scrolled": false
   },
   "outputs": [
    {
     "data": {
      "text/plain": [
       "GridSearchCV(cv=10, estimator=LogisticRegression(random_state=42), n_jobs=-1,\n",
       "             param_grid={'max_iter': [100, 50], 'penalty': ['l2', 'none'],\n",
       "                         'solver': ['lbfgs']},\n",
       "             scoring=make_scorer(log_loss, greater_is_better=False, needs_proba=True))"
      ]
     },
     "execution_count": 100,
     "metadata": {},
     "output_type": "execute_result"
    }
   ],
   "source": [
    "model = LogisticRegression(random_state=42)\n",
    "grid_search = GridSearchCV(model, param_grid, cv=10, n_jobs=-1, scoring=LogLoss)\n",
    "grid_search.fit(X_train_sca, y_train)"
   ]
  },
  {
   "cell_type": "code",
   "execution_count": 101,
   "id": "e3e86c49",
   "metadata": {
    "scrolled": true
   },
   "outputs": [
    {
     "data": {
      "text/plain": [
       "({'max_iter': 100, 'penalty': 'l2', 'solver': 'lbfgs'}, -0.6933009851063524)"
      ]
     },
     "execution_count": 101,
     "metadata": {},
     "output_type": "execute_result"
    }
   ],
   "source": [
    "grid_search.best_params_, grid_search.best_score_"
   ]
  },
  {
   "cell_type": "code",
   "execution_count": 102,
   "id": "9b001b0f",
   "metadata": {
    "scrolled": true
   },
   "outputs": [],
   "source": [
    "y_pred = grid_search.predict_proba(X_test_sca)\n",
    "y_pred_ = grid_search.predict(X_test_sca)"
   ]
  },
  {
   "cell_type": "code",
   "execution_count": 103,
   "id": "4046c4fc",
   "metadata": {
    "scrolled": true
   },
   "outputs": [
    {
     "name": "stdout",
     "output_type": "stream",
     "text": [
      "Accuracy for our Test data comes out to be 0.50025\n",
      "F1 Score for our Test data comes out to be [0.48270508 0.51664383]\n",
      "Log Loss for our Test data comes out to be 0.6936783142852261\n"
     ]
    }
   ],
   "source": [
    "print('Accuracy for our Test data comes out to be', accuracy_score(y_test, y_pred_))\n",
    "print('F1 Score for our Test data comes out to be', f1_score(y_test, y_pred_, average=None))\n",
    "print('Log Loss for our Test data comes out to be', log_loss(y_test, y_pred))"
   ]
  },
  {
   "cell_type": "code",
   "execution_count": 104,
   "id": "dc52cd35",
   "metadata": {},
   "outputs": [
    {
     "data": {
      "text/plain": [
       "0.4888888888888889"
      ]
     },
     "execution_count": 104,
     "metadata": {},
     "output_type": "execute_result"
    }
   ],
   "source": [
    "thres, _ = tuning_proba(y_pred, y_test)\n",
    "thres"
   ]
  },
  {
   "cell_type": "code",
   "execution_count": 105,
   "id": "077fbb7f",
   "metadata": {},
   "outputs": [
    {
     "name": "stdout",
     "output_type": "stream",
     "text": [
      "Accuracy for our Test data comes out to be 0.49883333333333335\n",
      "F1 Score for our Test data comes out to be [0.5024818  0.49513096]\n"
     ]
    }
   ],
   "source": [
    "y_pred_ = post_predict(y_pred, thres)\n",
    "print('Accuracy for our Test data comes out to be', accuracy_score(y_test, y_pred_))\n",
    "print('F1 Score for our Test data comes out to be', f1_score(y_test, y_pred_, average=None))"
   ]
  },
  {
   "cell_type": "code",
   "execution_count": 106,
   "id": "f7416368",
   "metadata": {
    "scrolled": false
   },
   "outputs": [
    {
     "data": {
      "image/png": "[encoded data removed]",
      "text/plain": [
       "<Figure size 432x288 with 2 Axes>"
      ]
     },
     "metadata": {
      "needs_background": "light"
     },
     "output_type": "display_data"
    }
   ],
   "source": [
    "classes = [0,1]\n",
    "cm = confusion_matrix(y_test, y_pred_, labels=classes)\n",
    "disp = ConfusionMatrixDisplay(confusion_matrix=cm, display_labels=classes)\n",
    "disp.plot()\n",
    "plt.show()"
   ]
  },
  {
   "cell_type": "code",
   "execution_count": 107,
   "id": "b9e85a39",
   "metadata": {},
   "outputs": [
    {
     "name": "stderr",
     "output_type": "stream",
     "text": [
      "C:\\Users\\Msc 2\\AppData\\Local\\Temp\\ipykernel_6744\\4291356847.py:1: FutureWarning: The frame.append method is deprecated and will be removed from pandas in a future version. Use pandas.concat instead.\n",
      "  models_df = models_df.append({\n"
     ]
    }
   ],
   "source": [
    "models_df = models_df.append({\n",
    "                'Model Class' : 'Logistic Regression',\n",
    "                'Accuracy'    : accuracy_score(y_test, y_pred_),\n",
    "                'F1-score'    : str(f1_score(y_test, y_pred_, average=None)),\n",
    "                'Threshold'   : thres,\n",
    "                'Parameters'  : str(grid_search.best_params_),\n",
    "                'Log Loss'    : log_loss(y_test, y_pred)\n",
    "               }, ignore_index = True)"
   ]
  },
  {
   "cell_type": "code",
   "execution_count": 108,
   "id": "e07c203d",
   "metadata": {
    "scrolled": true
   },
   "outputs": [
    {
     "data": {
      "text/html": [
       "<div>\n",
       "<style scoped>\n",
       "    .dataframe tbody tr th:only-of-type {\n",
       "        vertical-align: middle;\n",
       "    }\n",
       "\n",
       "    .dataframe tbody tr th {\n",
       "        vertical-align: top;\n",
       "    }\n",
       "\n",
       "    .dataframe thead th {\n",
       "        text-align: right;\n",
       "    }\n",
       "</style>\n",
       "<table border=\"1\" class=\"dataframe\">\n",
       "  <thead>\n",
       "    <tr style=\"text-align: right;\">\n",
       "      <th></th>\n",
       "      <th>Model Class</th>\n",
       "      <th>Accuracy</th>\n",
       "      <th>F1-score</th>\n",
       "      <th>Threshold</th>\n",
       "      <th>Parameters</th>\n",
       "      <th>Log Loss</th>\n",
       "    </tr>\n",
       "  </thead>\n",
       "  <tbody>\n",
       "    <tr>\n",
       "      <th>0</th>\n",
       "      <td>Decision Trees</td>\n",
       "      <td>0.501417</td>\n",
       "      <td>[0.51035273 0.49214837]</td>\n",
       "      <td>0.480808</td>\n",
       "      <td>{'max_depth': 10, 'min_samples_split': 5000}</td>\n",
       "      <td>0.694781</td>\n",
       "    </tr>\n",
       "    <tr>\n",
       "      <th>1</th>\n",
       "      <td>Random Forest</td>\n",
       "      <td>0.499417</td>\n",
       "      <td>[0.50669295 0.49192252]</td>\n",
       "      <td>0.492929</td>\n",
       "      <td>{'max_depth': 10, 'min_samples_split': 4000, '...</td>\n",
       "      <td>0.693211</td>\n",
       "    </tr>\n",
       "    <tr>\n",
       "      <th>2</th>\n",
       "      <td>AdaBoost</td>\n",
       "      <td>0.5035</td>\n",
       "      <td>[0.56536329 0.42110377]</td>\n",
       "      <td>None</td>\n",
       "      <td>{'algorithm': 'SAMME.R', 'learning_rate': 0.00...</td>\n",
       "      <td>0.693167</td>\n",
       "    </tr>\n",
       "    <tr>\n",
       "      <th>3</th>\n",
       "      <td>Gaussian Naive Bayes</td>\n",
       "      <td>0.499667</td>\n",
       "      <td>[0.36919521 0.58541638]</td>\n",
       "      <td>None</td>\n",
       "      <td>None</td>\n",
       "      <td>0.705982</td>\n",
       "    </tr>\n",
       "    <tr>\n",
       "      <th>4</th>\n",
       "      <td>Logistic Regression</td>\n",
       "      <td>0.498833</td>\n",
       "      <td>[0.5024818  0.49513096]</td>\n",
       "      <td>0.488889</td>\n",
       "      <td>{'max_iter': 100, 'penalty': 'l2', 'solver': '...</td>\n",
       "      <td>0.693678</td>\n",
       "    </tr>\n",
       "  </tbody>\n",
       "</table>\n",
       "</div>"
      ],
      "text/plain": [
       "            Model Class  Accuracy                 F1-score Threshold  \\\n",
       "0        Decision Trees  0.501417  [0.51035273 0.49214837]  0.480808   \n",
       "1         Random Forest  0.499417  [0.50669295 0.49192252]  0.492929   \n",
       "2              AdaBoost    0.5035  [0.56536329 0.42110377]      None   \n",
       "3  Gaussian Naive Bayes  0.499667  [0.36919521 0.58541638]      None   \n",
       "4   Logistic Regression  0.498833  [0.5024818  0.49513096]  0.488889   \n",
       "\n",
       "                                          Parameters  Log Loss  \n",
       "0       {'max_depth': 10, 'min_samples_split': 5000}  0.694781  \n",
       "1  {'max_depth': 10, 'min_samples_split': 4000, '...  0.693211  \n",
       "2  {'algorithm': 'SAMME.R', 'learning_rate': 0.00...  0.693167  \n",
       "3                                               None  0.705982  \n",
       "4  {'max_iter': 100, 'penalty': 'l2', 'solver': '...  0.693678  "
      ]
     },
     "execution_count": 108,
     "metadata": {},
     "output_type": "execute_result"
    }
   ],
   "source": [
    "models_df"
   ]
  },
  {
   "cell_type": "markdown",
   "id": "4485450c",
   "metadata": {},
   "source": [
    "### 6. K Nearest Neighbour"
   ]
  },
  {
   "cell_type": "code",
   "execution_count": 109,
   "id": "59cefc43",
   "metadata": {},
   "outputs": [],
   "source": [
    "from sklearn.neighbors import KNeighborsClassifier"
   ]
  },
  {
   "cell_type": "code",
   "execution_count": 110,
   "id": "fd293b9e",
   "metadata": {},
   "outputs": [
    {
     "data": {
      "text/plain": [
       "KNeighborsClassifier()"
      ]
     },
     "execution_count": 110,
     "metadata": {},
     "output_type": "execute_result"
    }
   ],
   "source": [
    "model = KNeighborsClassifier()\n",
    "model.fit(X_train_enc, y_train)"
   ]
  },
  {
   "cell_type": "markdown",
   "id": "c61daa20",
   "metadata": {},
   "source": [
    "#### Using non scaled data"
   ]
  },
  {
   "cell_type": "code",
   "execution_count": 111,
   "id": "a0aa5b42",
   "metadata": {},
   "outputs": [],
   "source": [
    "y_pred_train = model.predict(X_train_enc)\n",
    "y_pred       = model.predict(X_test_enc)"
   ]
  },
  {
   "cell_type": "code",
   "execution_count": 112,
   "id": "e7c0c68c",
   "metadata": {
    "scrolled": true
   },
   "outputs": [
    {
     "name": "stdout",
     "output_type": "stream",
     "text": [
      "Training :- \n",
      "              precision    recall  f1-score   support\n",
      "\n",
      "         0.0       0.69      0.69      0.69     13959\n",
      "         1.0       0.69      0.69      0.69     14041\n",
      "\n",
      "    accuracy                           0.69     28000\n",
      "   macro avg       0.69      0.69      0.69     28000\n",
      "weighted avg       0.69      0.69      0.69     28000\n",
      "\n",
      "Testing :- \n",
      "              precision    recall  f1-score   support\n",
      "\n",
      "         0.0       0.50      0.50      0.50      6041\n",
      "         1.0       0.50      0.50      0.50      5959\n",
      "\n",
      "    accuracy                           0.50     12000\n",
      "   macro avg       0.50      0.50      0.50     12000\n",
      "weighted avg       0.50      0.50      0.50     12000\n",
      "\n"
     ]
    }
   ],
   "source": [
    "print('Training :- ')\n",
    "print(classification_report(y_train, y_pred_train))\n",
    "print('Testing :- ')\n",
    "print(classification_report(y_test, y_pred))"
   ]
  },
  {
   "cell_type": "markdown",
   "id": "ea93cd84",
   "metadata": {},
   "source": [
    "Well, the accuracy is low on both the training and test set."
   ]
  },
  {
   "cell_type": "markdown",
   "id": "bc6a3fb7",
   "metadata": {},
   "source": [
    "#### Using scaled data"
   ]
  },
  {
   "cell_type": "code",
   "execution_count": 113,
   "id": "ee327827",
   "metadata": {},
   "outputs": [
    {
     "data": {
      "text/plain": [
       "KNeighborsClassifier()"
      ]
     },
     "execution_count": 113,
     "metadata": {},
     "output_type": "execute_result"
    }
   ],
   "source": [
    "model = KNeighborsClassifier()\n",
    "model.fit(X_train_sca, y_train)"
   ]
  },
  {
   "cell_type": "code",
   "execution_count": 114,
   "id": "bfe58833",
   "metadata": {},
   "outputs": [],
   "source": [
    "y_pred_train = model.predict(X_train_sca)\n",
    "y_pred       = model.predict(X_test_sca)"
   ]
  },
  {
   "cell_type": "code",
   "execution_count": 115,
   "id": "82642ebb",
   "metadata": {
    "scrolled": true
   },
   "outputs": [
    {
     "name": "stdout",
     "output_type": "stream",
     "text": [
      "Training :- \n",
      "              precision    recall  f1-score   support\n",
      "\n",
      "         0.0       0.69      0.68      0.69     13959\n",
      "         1.0       0.69      0.69      0.69     14041\n",
      "\n",
      "    accuracy                           0.69     28000\n",
      "   macro avg       0.69      0.69      0.69     28000\n",
      "weighted avg       0.69      0.69      0.69     28000\n",
      "\n",
      "Testing :- \n",
      "              precision    recall  f1-score   support\n",
      "\n",
      "         0.0       0.50      0.49      0.49      6041\n",
      "         1.0       0.49      0.50      0.50      5959\n",
      "\n",
      "    accuracy                           0.50     12000\n",
      "   macro avg       0.50      0.50      0.50     12000\n",
      "weighted avg       0.50      0.50      0.50     12000\n",
      "\n"
     ]
    }
   ],
   "source": [
    "print('Training :- ')\n",
    "print(classification_report(y_train, y_pred_train))\n",
    "print('Testing :- ')\n",
    "print(classification_report(y_test, y_pred))"
   ]
  },
  {
   "cell_type": "markdown",
   "id": "683ae67a",
   "metadata": {},
   "source": [
    "Again, the same thing using scaled data..."
   ]
  },
  {
   "cell_type": "code",
   "execution_count": 116,
   "id": "2352d233",
   "metadata": {
    "scrolled": true
   },
   "outputs": [
    {
     "data": {
      "image/png": "[encoded data removed]",
      "text/plain": [
       "<Figure size 432x288 with 2 Axes>"
      ]
     },
     "metadata": {
      "needs_background": "light"
     },
     "output_type": "display_data"
    }
   ],
   "source": [
    "classes = [0,1]\n",
    "cm = confusion_matrix(y_test, y_pred, labels=classes)\n",
    "disp = ConfusionMatrixDisplay(confusion_matrix=cm, display_labels=classes)\n",
    "disp.plot()\n",
    "plt.show()"
   ]
  },
  {
   "cell_type": "markdown",
   "id": "865308f3",
   "metadata": {},
   "source": [
    "Not making much sense."
   ]
  },
  {
   "cell_type": "code",
   "execution_count": 117,
   "id": "c883def5",
   "metadata": {
    "scrolled": true
   },
   "outputs": [
    {
     "name": "stdout",
     "output_type": "stream",
     "text": [
      "Log loss for the test data :  1.773203337614453\n"
     ]
    }
   ],
   "source": [
    "print('Log loss for the test data : ', log_loss(y_test, model.predict_proba(X_test_sca)))"
   ]
  },
  {
   "cell_type": "markdown",
   "id": "e1a9794c",
   "metadata": {},
   "source": [
    "Now, we will do the Hyperparameter tuning using `GridSearchCV`"
   ]
  },
  {
   "cell_type": "code",
   "execution_count": 131,
   "id": "2a6d0059",
   "metadata": {
    "scrolled": true
   },
   "outputs": [],
   "source": [
    "param_grid = {\n",
    "    'n_neighbors': [80, 90, 100],\n",
    "}"
   ]
  },
  {
   "cell_type": "code",
   "execution_count": 132,
   "id": "78c9c576",
   "metadata": {
    "scrolled": false
   },
   "outputs": [
    {
     "data": {
      "text/plain": [
       "GridSearchCV(cv=10, estimator=KNeighborsClassifier(), n_jobs=-1,\n",
       "             param_grid={'n_neighbors': [80, 90, 100]},\n",
       "             scoring=make_scorer(log_loss, greater_is_better=False, needs_proba=True))"
      ]
     },
     "execution_count": 132,
     "metadata": {},
     "output_type": "execute_result"
    }
   ],
   "source": [
    "model = KNeighborsClassifier()\n",
    "grid_search = GridSearchCV(model, param_grid, cv=10, n_jobs=-1, scoring=LogLoss)\n",
    "grid_search.fit(X_train_sca, y_train)"
   ]
  },
  {
   "cell_type": "code",
   "execution_count": 133,
   "id": "a05c0778",
   "metadata": {
    "scrolled": true
   },
   "outputs": [
    {
     "data": {
      "text/plain": [
       "({'n_neighbors': 100}, -0.6961243334047349)"
      ]
     },
     "execution_count": 133,
     "metadata": {},
     "output_type": "execute_result"
    }
   ],
   "source": [
    "grid_search.best_params_, grid_search.best_score_"
   ]
  },
  {
   "cell_type": "code",
   "execution_count": 134,
   "id": "0ada5789",
   "metadata": {
    "scrolled": true
   },
   "outputs": [],
   "source": [
    "y_pred = grid_search.predict_proba(X_test_sca)\n",
    "y_pred_ = grid_search.predict(X_test_sca)"
   ]
  },
  {
   "cell_type": "code",
   "execution_count": 135,
   "id": "0571616d",
   "metadata": {
    "scrolled": true
   },
   "outputs": [
    {
     "name": "stdout",
     "output_type": "stream",
     "text": [
      "Accuracy for our Test data comes out to be 0.5035\n",
      "F1 Score for our Test data comes out to be [0.51387076 0.49267711]\n",
      "Log Loss for our Test data comes out to be 0.6977972353598306\n"
     ]
    }
   ],
   "source": [
    "print('Accuracy for our Test data comes out to be', accuracy_score(y_test, y_pred_))\n",
    "print('F1 Score for our Test data comes out to be', f1_score(y_test, y_pred_, average=None))\n",
    "print('Log Loss for our Test data comes out to be', log_loss(y_test, y_pred))"
   ]
  },
  {
   "cell_type": "code",
   "execution_count": 136,
   "id": "3deccb78",
   "metadata": {},
   "outputs": [
    {
     "data": {
      "text/plain": [
       "0.46060606060606063"
      ]
     },
     "execution_count": 136,
     "metadata": {},
     "output_type": "execute_result"
    }
   ],
   "source": [
    "thres, _ = tuning_proba(y_pred, y_test)\n",
    "thres"
   ]
  },
  {
   "cell_type": "code",
   "execution_count": 137,
   "id": "49b03674",
   "metadata": {},
   "outputs": [
    {
     "name": "stdout",
     "output_type": "stream",
     "text": [
      "Accuracy for our Test data comes out to be 0.5001666666666666\n",
      "F1 Score for our Test data comes out to be [0.50649992 0.49366875]\n"
     ]
    }
   ],
   "source": [
    "y_pred_ = post_predict(y_pred, thres)\n",
    "print('Accuracy for our Test data comes out to be', accuracy_score(y_test, y_pred_))\n",
    "print('F1 Score for our Test data comes out to be', f1_score(y_test, y_pred_, average=None))"
   ]
  },
  {
   "cell_type": "code",
   "execution_count": 138,
   "id": "c8d464a3",
   "metadata": {
    "scrolled": true
   },
   "outputs": [
    {
     "data": {
      "image/png": "[encoded data removed]",
      "text/plain": [
       "<Figure size 432x288 with 2 Axes>"
      ]
     },
     "metadata": {
      "needs_background": "light"
     },
     "output_type": "display_data"
    }
   ],
   "source": [
    "classes = [0,1]\n",
    "cm = confusion_matrix(y_test, y_pred_, labels=classes)\n",
    "disp = ConfusionMatrixDisplay(confusion_matrix=cm, display_labels=classes)\n",
    "disp.plot()\n",
    "plt.show()"
   ]
  },
  {
   "cell_type": "code",
   "execution_count": 139,
   "id": "ff46c2d2",
   "metadata": {},
   "outputs": [
    {
     "name": "stderr",
     "output_type": "stream",
     "text": [
      "C:\\Users\\Msc 2\\AppData\\Local\\Temp\\ipykernel_6744\\2431212100.py:1: FutureWarning: The frame.append method is deprecated and will be removed from pandas in a future version. Use pandas.concat instead.\n",
      "  models_df = models_df.append({\n"
     ]
    }
   ],
   "source": [
    "models_df = models_df.append({\n",
    "                'Model Class' : 'K Nearest Neighbour',\n",
    "                'Accuracy'    : accuracy_score(y_test, y_pred_),\n",
    "                'F1-score'    : str(f1_score(y_test, y_pred_, average=None)),\n",
    "                'Threshold'   : thres,\n",
    "                'Parameters'  : str(grid_search.best_params_),\n",
    "                'Log Loss'    : log_loss(y_test, y_pred)\n",
    "               }, ignore_index = True)"
   ]
  },
  {
   "cell_type": "code",
   "execution_count": 140,
   "id": "1c97fa57",
   "metadata": {},
   "outputs": [
    {
     "data": {
      "text/html": [
       "<div>\n",
       "<style scoped>\n",
       "    .dataframe tbody tr th:only-of-type {\n",
       "        vertical-align: middle;\n",
       "    }\n",
       "\n",
       "    .dataframe tbody tr th {\n",
       "        vertical-align: top;\n",
       "    }\n",
       "\n",
       "    .dataframe thead th {\n",
       "        text-align: right;\n",
       "    }\n",
       "</style>\n",
       "<table border=\"1\" class=\"dataframe\">\n",
       "  <thead>\n",
       "    <tr style=\"text-align: right;\">\n",
       "      <th></th>\n",
       "      <th>Model Class</th>\n",
       "      <th>Accuracy</th>\n",
       "      <th>F1-score</th>\n",
       "      <th>Threshold</th>\n",
       "      <th>Parameters</th>\n",
       "      <th>Log Loss</th>\n",
       "    </tr>\n",
       "  </thead>\n",
       "  <tbody>\n",
       "    <tr>\n",
       "      <th>0</th>\n",
       "      <td>Decision Trees</td>\n",
       "      <td>0.501417</td>\n",
       "      <td>[0.51035273 0.49214837]</td>\n",
       "      <td>0.480808</td>\n",
       "      <td>{'max_depth': 10, 'min_samples_split': 5000}</td>\n",
       "      <td>0.694781</td>\n",
       "    </tr>\n",
       "    <tr>\n",
       "      <th>1</th>\n",
       "      <td>Random Forest</td>\n",
       "      <td>0.499417</td>\n",
       "      <td>[0.50669295 0.49192252]</td>\n",
       "      <td>0.492929</td>\n",
       "      <td>{'max_depth': 10, 'min_samples_split': 4000, '...</td>\n",
       "      <td>0.693211</td>\n",
       "    </tr>\n",
       "    <tr>\n",
       "      <th>2</th>\n",
       "      <td>AdaBoost</td>\n",
       "      <td>0.5035</td>\n",
       "      <td>[0.56536329 0.42110377]</td>\n",
       "      <td>None</td>\n",
       "      <td>{'algorithm': 'SAMME.R', 'learning_rate': 0.00...</td>\n",
       "      <td>0.693167</td>\n",
       "    </tr>\n",
       "    <tr>\n",
       "      <th>3</th>\n",
       "      <td>Gaussian Naive Bayes</td>\n",
       "      <td>0.499667</td>\n",
       "      <td>[0.36919521 0.58541638]</td>\n",
       "      <td>None</td>\n",
       "      <td>None</td>\n",
       "      <td>0.705982</td>\n",
       "    </tr>\n",
       "    <tr>\n",
       "      <th>4</th>\n",
       "      <td>Logistic Regression</td>\n",
       "      <td>0.498833</td>\n",
       "      <td>[0.5024818  0.49513096]</td>\n",
       "      <td>0.488889</td>\n",
       "      <td>{'max_iter': 100, 'penalty': 'l2', 'solver': '...</td>\n",
       "      <td>0.693678</td>\n",
       "    </tr>\n",
       "    <tr>\n",
       "      <th>5</th>\n",
       "      <td>K Nearest Neighbour</td>\n",
       "      <td>0.500167</td>\n",
       "      <td>[0.50649992 0.49366875]</td>\n",
       "      <td>0.460606</td>\n",
       "      <td>{'n_neighbors': 100}</td>\n",
       "      <td>0.697797</td>\n",
       "    </tr>\n",
       "  </tbody>\n",
       "</table>\n",
       "</div>"
      ],
      "text/plain": [
       "            Model Class  Accuracy                 F1-score Threshold  \\\n",
       "0        Decision Trees  0.501417  [0.51035273 0.49214837]  0.480808   \n",
       "1         Random Forest  0.499417  [0.50669295 0.49192252]  0.492929   \n",
       "2              AdaBoost    0.5035  [0.56536329 0.42110377]      None   \n",
       "3  Gaussian Naive Bayes  0.499667  [0.36919521 0.58541638]      None   \n",
       "4   Logistic Regression  0.498833  [0.5024818  0.49513096]  0.488889   \n",
       "5   K Nearest Neighbour  0.500167  [0.50649992 0.49366875]  0.460606   \n",
       "\n",
       "                                          Parameters  Log Loss  \n",
       "0       {'max_depth': 10, 'min_samples_split': 5000}  0.694781  \n",
       "1  {'max_depth': 10, 'min_samples_split': 4000, '...  0.693211  \n",
       "2  {'algorithm': 'SAMME.R', 'learning_rate': 0.00...  0.693167  \n",
       "3                                               None  0.705982  \n",
       "4  {'max_iter': 100, 'penalty': 'l2', 'solver': '...  0.693678  \n",
       "5                               {'n_neighbors': 100}  0.697797  "
      ]
     },
     "execution_count": 140,
     "metadata": {},
     "output_type": "execute_result"
    }
   ],
   "source": [
    "models_df"
   ]
  },
  {
   "cell_type": "markdown",
   "id": "11354fcc",
   "metadata": {},
   "source": [
    "### 7. Support Vector Machines"
   ]
  },
  {
   "cell_type": "code",
   "execution_count": 141,
   "id": "d89bbfff",
   "metadata": {},
   "outputs": [],
   "source": [
    "from sklearn.svm import SVC"
   ]
  },
  {
   "cell_type": "code",
   "execution_count": 143,
   "id": "a5f1d9d8",
   "metadata": {},
   "outputs": [
    {
     "data": {
      "text/plain": [
       "SVC(probability=True)"
      ]
     },
     "execution_count": 143,
     "metadata": {},
     "output_type": "execute_result"
    }
   ],
   "source": [
    "model = SVC(probability=True)\n",
    "model.fit(X_train_enc, y_train)"
   ]
  },
  {
   "cell_type": "markdown",
   "id": "b1caf801",
   "metadata": {},
   "source": [
    "#### Using non scaled data"
   ]
  },
  {
   "cell_type": "code",
   "execution_count": 144,
   "id": "69686534",
   "metadata": {},
   "outputs": [],
   "source": [
    "y_pred_train = model.predict(X_train_enc)\n",
    "y_pred       = model.predict(X_test_enc)"
   ]
  },
  {
   "cell_type": "code",
   "execution_count": 145,
   "id": "fdfc4f2d",
   "metadata": {
    "scrolled": true
   },
   "outputs": [
    {
     "name": "stdout",
     "output_type": "stream",
     "text": [
      "Training :- \n",
      "              precision    recall  f1-score   support\n",
      "\n",
      "         0.0       0.51      0.18      0.26     13959\n",
      "         1.0       0.50      0.83      0.63     14041\n",
      "\n",
      "    accuracy                           0.50     28000\n",
      "   macro avg       0.51      0.50      0.45     28000\n",
      "weighted avg       0.51      0.50      0.45     28000\n",
      "\n",
      "Testing :- \n",
      "              precision    recall  f1-score   support\n",
      "\n",
      "         0.0       0.51      0.19      0.28      6041\n",
      "         1.0       0.50      0.81      0.62      5959\n",
      "\n",
      "    accuracy                           0.50     12000\n",
      "   macro avg       0.51      0.50      0.45     12000\n",
      "weighted avg       0.51      0.50      0.45     12000\n",
      "\n"
     ]
    }
   ],
   "source": [
    "print('Training :- ')\n",
    "print(classification_report(y_train, y_pred_train))\n",
    "print('Testing :- ')\n",
    "print(classification_report(y_test, y_pred))"
   ]
  },
  {
   "cell_type": "markdown",
   "id": "7d3a1cd8",
   "metadata": {},
   "source": [
    "#### Using scaled data"
   ]
  },
  {
   "cell_type": "code",
   "execution_count": 162,
   "id": "a2fbcd98",
   "metadata": {},
   "outputs": [
    {
     "data": {
      "text/plain": [
       "SVC(probability=True)"
      ]
     },
     "execution_count": 162,
     "metadata": {},
     "output_type": "execute_result"
    }
   ],
   "source": [
    "model = SVC(probability=True)\n",
    "model.fit(X_train_sca, y_train)"
   ]
  },
  {
   "cell_type": "code",
   "execution_count": 163,
   "id": "b99c7363",
   "metadata": {},
   "outputs": [],
   "source": [
    "y_pred_train = model.predict(X_train_sca)\n",
    "y_pred       = model.predict(X_test_sca)"
   ]
  },
  {
   "cell_type": "code",
   "execution_count": 164,
   "id": "da4d0c68",
   "metadata": {
    "scrolled": false
   },
   "outputs": [
    {
     "name": "stdout",
     "output_type": "stream",
     "text": [
      "Training :- \n",
      "              precision    recall  f1-score   support\n",
      "\n",
      "         0.0       0.61      0.59      0.60     13959\n",
      "         1.0       0.61      0.63      0.62     14041\n",
      "\n",
      "    accuracy                           0.61     28000\n",
      "   macro avg       0.61      0.61      0.61     28000\n",
      "weighted avg       0.61      0.61      0.61     28000\n",
      "\n",
      "Testing :- \n",
      "              precision    recall  f1-score   support\n",
      "\n",
      "         0.0       0.50      0.48      0.49      6041\n",
      "         1.0       0.50      0.52      0.51      5959\n",
      "\n",
      "    accuracy                           0.50     12000\n",
      "   macro avg       0.50      0.50      0.50     12000\n",
      "weighted avg       0.50      0.50      0.50     12000\n",
      "\n"
     ]
    }
   ],
   "source": [
    "print('Training :- ')\n",
    "print(classification_report(y_train, y_pred_train))\n",
    "print('Testing :- ')\n",
    "print(classification_report(y_test, y_pred))"
   ]
  },
  {
   "cell_type": "markdown",
   "id": "90e31304",
   "metadata": {},
   "source": [
    "Accuracy on train data increases when we use scaled data. Also F1 score improves."
   ]
  },
  {
   "cell_type": "markdown",
   "id": "a1f4fd19",
   "metadata": {},
   "source": [
    "Again, the same thing using scaled data..."
   ]
  },
  {
   "cell_type": "code",
   "execution_count": 165,
   "id": "af881052",
   "metadata": {
    "scrolled": true
   },
   "outputs": [
    {
     "data": {
      "image/png": "[encoded data removed]",
      "text/plain": [
       "<Figure size 432x288 with 2 Axes>"
      ]
     },
     "metadata": {
      "needs_background": "light"
     },
     "output_type": "display_data"
    }
   ],
   "source": [
    "classes = [0,1]\n",
    "cm = confusion_matrix(y_test, y_pred, labels=classes)\n",
    "disp = ConfusionMatrixDisplay(confusion_matrix=cm, display_labels=classes)\n",
    "disp.plot()\n",
    "plt.show()"
   ]
  },
  {
   "cell_type": "markdown",
   "id": "2064f072",
   "metadata": {},
   "source": [
    "Not making much sense."
   ]
  },
  {
   "cell_type": "code",
   "execution_count": 167,
   "id": "033188f6",
   "metadata": {
    "scrolled": true
   },
   "outputs": [
    {
     "name": "stdout",
     "output_type": "stream",
     "text": [
      "Accuracy for our Test data comes out to be 0.50025\n",
      "F1 Score for our Test data comes out to be [0.49018108 0.5099289 ]\n",
      "Log Loss for our Test data comes out to be 0.6931299718854771\n"
     ]
    }
   ],
   "source": [
    "print('Accuracy for our Test data comes out to be', accuracy_score(y_test, y_pred))\n",
    "print('F1 Score for our Test data comes out to be', f1_score(y_test, y_pred, average=None))\n",
    "print('Log Loss for our Test data comes out to be', log_loss(y_test, model.predict_proba(X_test_sca)))"
   ]
  },
  {
   "cell_type": "code",
   "execution_count": 168,
   "id": "6dbcb9a9",
   "metadata": {},
   "outputs": [
    {
     "name": "stderr",
     "output_type": "stream",
     "text": [
      "C:\\Users\\Msc 2\\AppData\\Local\\Temp\\ipykernel_6744\\1544649240.py:1: FutureWarning: The frame.append method is deprecated and will be removed from pandas in a future version. Use pandas.concat instead.\n",
      "  models_df = models_df.append({\n"
     ]
    }
   ],
   "source": [
    "models_df = models_df.append({\n",
    "                'Model Class' : 'Support Vector Machines',\n",
    "                'Accuracy'    : accuracy_score(y_test, y_pred_),\n",
    "                'F1-score'    : str(f1_score(y_test, y_pred_, average=None)),\n",
    "                'Threshold'   : None,\n",
    "                'Parameters'  : None,\n",
    "                'Log Loss'    : log_loss(y_test, model.predict_proba(X_test_sca))\n",
    "               }, ignore_index = True)"
   ]
  },
  {
   "cell_type": "code",
   "execution_count": 169,
   "id": "aaeba0b5",
   "metadata": {},
   "outputs": [
    {
     "data": {
      "text/html": [
       "<div>\n",
       "<style scoped>\n",
       "    .dataframe tbody tr th:only-of-type {\n",
       "        vertical-align: middle;\n",
       "    }\n",
       "\n",
       "    .dataframe tbody tr th {\n",
       "        vertical-align: top;\n",
       "    }\n",
       "\n",
       "    .dataframe thead th {\n",
       "        text-align: right;\n",
       "    }\n",
       "</style>\n",
       "<table border=\"1\" class=\"dataframe\">\n",
       "  <thead>\n",
       "    <tr style=\"text-align: right;\">\n",
       "      <th></th>\n",
       "      <th>Model Class</th>\n",
       "      <th>Accuracy</th>\n",
       "      <th>F1-score</th>\n",
       "      <th>Threshold</th>\n",
       "      <th>Parameters</th>\n",
       "      <th>Log Loss</th>\n",
       "    </tr>\n",
       "  </thead>\n",
       "  <tbody>\n",
       "    <tr>\n",
       "      <th>0</th>\n",
       "      <td>Decision Trees</td>\n",
       "      <td>0.501417</td>\n",
       "      <td>[0.51035273 0.49214837]</td>\n",
       "      <td>0.480808</td>\n",
       "      <td>{'max_depth': 10, 'min_samples_split': 5000}</td>\n",
       "      <td>0.694781</td>\n",
       "    </tr>\n",
       "    <tr>\n",
       "      <th>1</th>\n",
       "      <td>Random Forest</td>\n",
       "      <td>0.499417</td>\n",
       "      <td>[0.50669295 0.49192252]</td>\n",
       "      <td>0.492929</td>\n",
       "      <td>{'max_depth': 10, 'min_samples_split': 4000, '...</td>\n",
       "      <td>0.693211</td>\n",
       "    </tr>\n",
       "    <tr>\n",
       "      <th>2</th>\n",
       "      <td>AdaBoost</td>\n",
       "      <td>0.5035</td>\n",
       "      <td>[0.56536329 0.42110377]</td>\n",
       "      <td>None</td>\n",
       "      <td>{'algorithm': 'SAMME.R', 'learning_rate': 0.00...</td>\n",
       "      <td>0.693167</td>\n",
       "    </tr>\n",
       "    <tr>\n",
       "      <th>3</th>\n",
       "      <td>Gaussian Naive Bayes</td>\n",
       "      <td>0.499667</td>\n",
       "      <td>[0.36919521 0.58541638]</td>\n",
       "      <td>None</td>\n",
       "      <td>None</td>\n",
       "      <td>0.705982</td>\n",
       "    </tr>\n",
       "    <tr>\n",
       "      <th>4</th>\n",
       "      <td>Logistic Regression</td>\n",
       "      <td>0.498833</td>\n",
       "      <td>[0.5024818  0.49513096]</td>\n",
       "      <td>0.488889</td>\n",
       "      <td>{'max_iter': 100, 'penalty': 'l2', 'solver': '...</td>\n",
       "      <td>0.693678</td>\n",
       "    </tr>\n",
       "    <tr>\n",
       "      <th>5</th>\n",
       "      <td>K Nearest Neighbour</td>\n",
       "      <td>0.500167</td>\n",
       "      <td>[0.50649992 0.49366875]</td>\n",
       "      <td>0.460606</td>\n",
       "      <td>{'n_neighbors': 100}</td>\n",
       "      <td>0.697797</td>\n",
       "    </tr>\n",
       "    <tr>\n",
       "      <th>6</th>\n",
       "      <td>Support Vector Machines</td>\n",
       "      <td>0.498417</td>\n",
       "      <td>[0.29823948 0.6097387 ]</td>\n",
       "      <td>None</td>\n",
       "      <td>None</td>\n",
       "      <td>0.693130</td>\n",
       "    </tr>\n",
       "  </tbody>\n",
       "</table>\n",
       "</div>"
      ],
      "text/plain": [
       "               Model Class  Accuracy                 F1-score Threshold  \\\n",
       "0           Decision Trees  0.501417  [0.51035273 0.49214837]  0.480808   \n",
       "1            Random Forest  0.499417  [0.50669295 0.49192252]  0.492929   \n",
       "2                 AdaBoost    0.5035  [0.56536329 0.42110377]      None   \n",
       "3     Gaussian Naive Bayes  0.499667  [0.36919521 0.58541638]      None   \n",
       "4      Logistic Regression  0.498833  [0.5024818  0.49513096]  0.488889   \n",
       "5      K Nearest Neighbour  0.500167  [0.50649992 0.49366875]  0.460606   \n",
       "6  Support Vector Machines  0.498417  [0.29823948 0.6097387 ]      None   \n",
       "\n",
       "                                          Parameters  Log Loss  \n",
       "0       {'max_depth': 10, 'min_samples_split': 5000}  0.694781  \n",
       "1  {'max_depth': 10, 'min_samples_split': 4000, '...  0.693211  \n",
       "2  {'algorithm': 'SAMME.R', 'learning_rate': 0.00...  0.693167  \n",
       "3                                               None  0.705982  \n",
       "4  {'max_iter': 100, 'penalty': 'l2', 'solver': '...  0.693678  \n",
       "5                               {'n_neighbors': 100}  0.697797  \n",
       "6                                               None  0.693130  "
      ]
     },
     "execution_count": 169,
     "metadata": {},
     "output_type": "execute_result"
    }
   ],
   "source": [
    "models_df"
   ]
  },
  {
   "cell_type": "markdown",
   "id": "3bb43882",
   "metadata": {},
   "source": [
    "### 8. XGBoost\n",
    "Though a tree based model, kept it till the end as it is one of the best models known."
   ]
  },
  {
   "cell_type": "code",
   "execution_count": 170,
   "id": "e983ba98",
   "metadata": {},
   "outputs": [],
   "source": [
    "from xgboost import XGBClassifier"
   ]
  },
  {
   "cell_type": "code",
   "execution_count": 173,
   "id": "bcda5c4f",
   "metadata": {
    "scrolled": true
   },
   "outputs": [
    {
     "data": {
      "text/plain": [
       "XGBClassifier(base_score=0.5, booster='gbtree', callbacks=None,\n",
       "              colsample_bylevel=1, colsample_bynode=1, colsample_bytree=1,\n",
       "              early_stopping_rounds=None, enable_categorical=False,\n",
       "              eval_metric=None, feature_types=None, gamma=0, gpu_id=-1,\n",
       "              grow_policy='depthwise', importance_type=None,\n",
       "              interaction_constraints='', learning_rate=0.300000012,\n",
       "              max_bin=256, max_cat_threshold=64, max_cat_to_onehot=4,\n",
       "              max_delta_step=0, max_depth=6, max_leaves=0, min_child_weight=1,\n",
       "              missing=nan, monotone_constraints='()', n_estimators=100,\n",
       "              n_jobs=0, num_parallel_tree=1, predictor='auto', random_state=0, ...)"
      ]
     },
     "execution_count": 173,
     "metadata": {},
     "output_type": "execute_result"
    }
   ],
   "source": [
    "model = XGBClassifier()\n",
    "model.fit(X_train_sca, y_train)"
   ]
  },
  {
   "cell_type": "code",
   "execution_count": 174,
   "id": "74f94e01",
   "metadata": {},
   "outputs": [],
   "source": [
    "y_pred_train = model.predict(X_train_sca)\n",
    "y_pred       = model.predict(X_test_sca)"
   ]
  },
  {
   "cell_type": "code",
   "execution_count": 175,
   "id": "1175eea9",
   "metadata": {
    "scrolled": false
   },
   "outputs": [
    {
     "name": "stdout",
     "output_type": "stream",
     "text": [
      "Training :- \n",
      "              precision    recall  f1-score   support\n",
      "\n",
      "         0.0       0.72      0.69      0.71     13959\n",
      "         1.0       0.71      0.73      0.72     14041\n",
      "\n",
      "    accuracy                           0.71     28000\n",
      "   macro avg       0.71      0.71      0.71     28000\n",
      "weighted avg       0.71      0.71      0.71     28000\n",
      "\n",
      "Testing :- \n",
      "              precision    recall  f1-score   support\n",
      "\n",
      "         0.0       0.50      0.48      0.49      6041\n",
      "         1.0       0.50      0.52      0.51      5959\n",
      "\n",
      "    accuracy                           0.50     12000\n",
      "   macro avg       0.50      0.50      0.50     12000\n",
      "weighted avg       0.50      0.50      0.50     12000\n",
      "\n"
     ]
    }
   ],
   "source": [
    "print('Training :- ')\n",
    "print(classification_report(y_train, y_pred_train))\n",
    "print('Testing :- ')\n",
    "print(classification_report(y_test, y_pred))"
   ]
  },
  {
   "cell_type": "code",
   "execution_count": 165,
   "id": "0ba43464",
   "metadata": {
    "scrolled": false
   },
   "outputs": [
    {
     "data": {
      "image/png": "[encoded data removed]",
      "text/plain": [
       "<Figure size 432x288 with 2 Axes>"
      ]
     },
     "metadata": {
      "needs_background": "light"
     },
     "output_type": "display_data"
    }
   ],
   "source": [
    "classes = [0,1]\n",
    "cm = confusion_matrix(y_test, y_pred, labels=classes)\n",
    "disp = ConfusionMatrixDisplay(confusion_matrix=cm, display_labels=classes)\n",
    "disp.plot()\n",
    "plt.show()"
   ]
  },
  {
   "cell_type": "code",
   "execution_count": 176,
   "id": "5f863061",
   "metadata": {
    "scrolled": true
   },
   "outputs": [
    {
     "name": "stdout",
     "output_type": "stream",
     "text": [
      "Log loss for the test data :  0.7148271891288459\n"
     ]
    }
   ],
   "source": [
    "print('Log loss for the test data : ', log_loss(y_test, model.predict_proba(X_test_sca)))"
   ]
  },
  {
   "cell_type": "markdown",
   "id": "08732203",
   "metadata": {},
   "source": [
    "Now, we will do the Hyperparameter tuning using `GridSearchCV`"
   ]
  },
  {
   "cell_type": "code",
   "execution_count": 191,
   "id": "fa6f881a",
   "metadata": {
    "scrolled": true
   },
   "outputs": [],
   "source": [
    "param_grid = {\n",
    "    'max_depth': [10],\n",
    "    'learning_rate': [1e-3, 1e-5],\n",
    "    'booster': ['gbtree'],\n",
    "    'reg_alpha': [0, 0.5, 1, 1.5],\n",
    "    'reg_lambda': [0, 0.5, 1, 1.5],\n",
    "    'colsample_bytree': [.5, .8, .9],\n",
    "}"
   ]
  },
  {
   "cell_type": "code",
   "execution_count": 192,
   "id": "6f7c90ca",
   "metadata": {
    "scrolled": false
   },
   "outputs": [
    {
     "data": {
      "text/plain": [
       "GridSearchCV(cv=10,\n",
       "             estimator=XGBClassifier(base_score=None, booster=None,\n",
       "                                     callbacks=None, colsample_bylevel=None,\n",
       "                                     colsample_bynode=None,\n",
       "                                     colsample_bytree=None,\n",
       "                                     early_stopping_rounds=None,\n",
       "                                     enable_categorical=False, eval_metric=None,\n",
       "                                     feature_types=None, gamma=None,\n",
       "                                     gpu_id=None, grow_policy=None,\n",
       "                                     importance_type=None,\n",
       "                                     interaction_constraints=None,\n",
       "                                     learning_rate=None...\n",
       "                                     missing=nan, monotone_constraints=None,\n",
       "                                     n_estimators=100, n_jobs=None,\n",
       "                                     num_parallel_tree=None, predictor=None,\n",
       "                                     random_state=None, ...),\n",
       "             n_jobs=-1,\n",
       "             param_grid={'booster': ['gbtree'],\n",
       "                         'colsample_bytree': [0.5, 0.8, 0.9],\n",
       "                         'learning_rate': [0.001, 1e-05], 'max_depth': [10],\n",
       "                         'reg_alpha': [0, 0.5, 1, 1.5],\n",
       "                         'reg_lambda': [0, 0.5, 1, 1.5]},\n",
       "             scoring=make_scorer(log_loss, greater_is_better=False, needs_proba=True))"
      ]
     },
     "execution_count": 192,
     "metadata": {},
     "output_type": "execute_result"
    }
   ],
   "source": [
    "model = XGBClassifier()\n",
    "grid_search = GridSearchCV(model, param_grid, cv=10, n_jobs=-1, scoring=LogLoss)\n",
    "grid_search.fit(X_train_sca, y_train)"
   ]
  },
  {
   "cell_type": "code",
   "execution_count": 193,
   "id": "81b7902e",
   "metadata": {
    "scrolled": true
   },
   "outputs": [
    {
     "data": {
      "text/plain": [
       "({'booster': 'gbtree',\n",
       "  'colsample_bytree': 0.8,\n",
       "  'learning_rate': 0.001,\n",
       "  'max_depth': 10,\n",
       "  'reg_alpha': 1,\n",
       "  'reg_lambda': 0},\n",
       " -0.6930711708004985)"
      ]
     },
     "execution_count": 193,
     "metadata": {},
     "output_type": "execute_result"
    }
   ],
   "source": [
    "grid_search.best_params_, grid_search.best_score_"
   ]
  },
  {
   "cell_type": "code",
   "execution_count": 194,
   "id": "2b34ac57",
   "metadata": {
    "scrolled": true
   },
   "outputs": [],
   "source": [
    "y_pred = grid_search.predict_proba(X_test_sca)\n",
    "y_pred_ = grid_search.predict(X_test_sca)"
   ]
  },
  {
   "cell_type": "code",
   "execution_count": 195,
   "id": "9f6cf360",
   "metadata": {
    "scrolled": true
   },
   "outputs": [
    {
     "name": "stdout",
     "output_type": "stream",
     "text": [
      "Accuracy for our Test data comes out to be 0.5084166666666666\n",
      "F1 Score for our Test data comes out to be [0.49080708 0.52484897]\n",
      "Log Loss for our Test data comes out to be 0.6930954605837663\n"
     ]
    }
   ],
   "source": [
    "print('Accuracy for our Test data comes out to be', accuracy_score(y_test, y_pred_))\n",
    "print('F1 Score for our Test data comes out to be', f1_score(y_test, y_pred_, average=None))\n",
    "print('Log Loss for our Test data comes out to be', log_loss(y_test, y_pred))"
   ]
  },
  {
   "cell_type": "code",
   "execution_count": 199,
   "id": "0a918b71",
   "metadata": {},
   "outputs": [
    {
     "name": "stderr",
     "output_type": "stream",
     "text": [
      "C:\\Users\\Msc 2\\AppData\\Local\\Temp\\ipykernel_6744\\1935061577.py:1: FutureWarning: The frame.append method is deprecated and will be removed from pandas in a future version. Use pandas.concat instead.\n",
      "  models_df = models_df.append({\n"
     ]
    }
   ],
   "source": [
    "models_df = models_df.append({\n",
    "                'Model Class' : 'XGBoost',\n",
    "                'Accuracy'    : accuracy_score(y_test, y_pred_),\n",
    "                'F1-score'    : str(f1_score(y_test, y_pred_, average=None)),\n",
    "                'Threshold'   : None,\n",
    "                'Parameters'  : str(grid_search.best_params_),\n",
    "                'Log Loss'    : log_loss(y_test, y_pred)\n",
    "               }, ignore_index = True)"
   ]
  },
  {
   "cell_type": "code",
   "execution_count": 200,
   "id": "68afb6b0",
   "metadata": {},
   "outputs": [
    {
     "data": {
      "text/html": [
       "<div>\n",
       "<style scoped>\n",
       "    .dataframe tbody tr th:only-of-type {\n",
       "        vertical-align: middle;\n",
       "    }\n",
       "\n",
       "    .dataframe tbody tr th {\n",
       "        vertical-align: top;\n",
       "    }\n",
       "\n",
       "    .dataframe thead th {\n",
       "        text-align: right;\n",
       "    }\n",
       "</style>\n",
       "<table border=\"1\" class=\"dataframe\">\n",
       "  <thead>\n",
       "    <tr style=\"text-align: right;\">\n",
       "      <th></th>\n",
       "      <th>Model Class</th>\n",
       "      <th>Accuracy</th>\n",
       "      <th>F1-score</th>\n",
       "      <th>Threshold</th>\n",
       "      <th>Parameters</th>\n",
       "      <th>Log Loss</th>\n",
       "    </tr>\n",
       "  </thead>\n",
       "  <tbody>\n",
       "    <tr>\n",
       "      <th>0</th>\n",
       "      <td>Decision Trees</td>\n",
       "      <td>0.501417</td>\n",
       "      <td>[0.51035273 0.49214837]</td>\n",
       "      <td>0.480808</td>\n",
       "      <td>{'max_depth': 10, 'min_samples_split': 5000}</td>\n",
       "      <td>0.694781</td>\n",
       "    </tr>\n",
       "    <tr>\n",
       "      <th>1</th>\n",
       "      <td>Random Forest</td>\n",
       "      <td>0.499417</td>\n",
       "      <td>[0.50669295 0.49192252]</td>\n",
       "      <td>0.492929</td>\n",
       "      <td>{'max_depth': 10, 'min_samples_split': 4000, '...</td>\n",
       "      <td>0.693211</td>\n",
       "    </tr>\n",
       "    <tr>\n",
       "      <th>2</th>\n",
       "      <td>AdaBoost</td>\n",
       "      <td>0.5035</td>\n",
       "      <td>[0.56536329 0.42110377]</td>\n",
       "      <td>None</td>\n",
       "      <td>{'algorithm': 'SAMME.R', 'learning_rate': 0.00...</td>\n",
       "      <td>0.693167</td>\n",
       "    </tr>\n",
       "    <tr>\n",
       "      <th>3</th>\n",
       "      <td>Gaussian Naive Bayes</td>\n",
       "      <td>0.499667</td>\n",
       "      <td>[0.36919521 0.58541638]</td>\n",
       "      <td>None</td>\n",
       "      <td>None</td>\n",
       "      <td>0.705982</td>\n",
       "    </tr>\n",
       "    <tr>\n",
       "      <th>4</th>\n",
       "      <td>Logistic Regression</td>\n",
       "      <td>0.498833</td>\n",
       "      <td>[0.5024818  0.49513096]</td>\n",
       "      <td>0.488889</td>\n",
       "      <td>{'max_iter': 100, 'penalty': 'l2', 'solver': '...</td>\n",
       "      <td>0.693678</td>\n",
       "    </tr>\n",
       "    <tr>\n",
       "      <th>5</th>\n",
       "      <td>K Nearest Neighbour</td>\n",
       "      <td>0.500167</td>\n",
       "      <td>[0.50649992 0.49366875]</td>\n",
       "      <td>0.460606</td>\n",
       "      <td>{'n_neighbors': 100}</td>\n",
       "      <td>0.697797</td>\n",
       "    </tr>\n",
       "    <tr>\n",
       "      <th>6</th>\n",
       "      <td>Support Vector Machines</td>\n",
       "      <td>0.498417</td>\n",
       "      <td>[0.29823948 0.6097387 ]</td>\n",
       "      <td>None</td>\n",
       "      <td>None</td>\n",
       "      <td>0.693130</td>\n",
       "    </tr>\n",
       "    <tr>\n",
       "      <th>7</th>\n",
       "      <td>XGBoost</td>\n",
       "      <td>0.508417</td>\n",
       "      <td>[0.49080708 0.52484897]</td>\n",
       "      <td>None</td>\n",
       "      <td>{'booster': 'gbtree', 'colsample_bytree': 0.8,...</td>\n",
       "      <td>0.693095</td>\n",
       "    </tr>\n",
       "  </tbody>\n",
       "</table>\n",
       "</div>"
      ],
      "text/plain": [
       "               Model Class  Accuracy                 F1-score Threshold  \\\n",
       "0           Decision Trees  0.501417  [0.51035273 0.49214837]  0.480808   \n",
       "1            Random Forest  0.499417  [0.50669295 0.49192252]  0.492929   \n",
       "2                 AdaBoost    0.5035  [0.56536329 0.42110377]      None   \n",
       "3     Gaussian Naive Bayes  0.499667  [0.36919521 0.58541638]      None   \n",
       "4      Logistic Regression  0.498833  [0.5024818  0.49513096]  0.488889   \n",
       "5      K Nearest Neighbour  0.500167  [0.50649992 0.49366875]  0.460606   \n",
       "6  Support Vector Machines  0.498417  [0.29823948 0.6097387 ]      None   \n",
       "7                  XGBoost  0.508417  [0.49080708 0.52484897]      None   \n",
       "\n",
       "                                          Parameters  Log Loss  \n",
       "0       {'max_depth': 10, 'min_samples_split': 5000}  0.694781  \n",
       "1  {'max_depth': 10, 'min_samples_split': 4000, '...  0.693211  \n",
       "2  {'algorithm': 'SAMME.R', 'learning_rate': 0.00...  0.693167  \n",
       "3                                               None  0.705982  \n",
       "4  {'max_iter': 100, 'penalty': 'l2', 'solver': '...  0.693678  \n",
       "5                               {'n_neighbors': 100}  0.697797  \n",
       "6                                               None  0.693130  \n",
       "7  {'booster': 'gbtree', 'colsample_bytree': 0.8,...  0.693095  "
      ]
     },
     "execution_count": 200,
     "metadata": {},
     "output_type": "execute_result"
    }
   ],
   "source": [
    "models_df"
   ]
  },
  {
   "cell_type": "markdown",
   "id": "8a3d562d",
   "metadata": {},
   "source": [
    "## Conclusion"
   ]
  },
  {
   "cell_type": "code",
   "execution_count": 201,
   "id": "ececa2e7",
   "metadata": {},
   "outputs": [
    {
     "data": {
      "text/html": [
       "<div>\n",
       "<style scoped>\n",
       "    .dataframe tbody tr th:only-of-type {\n",
       "        vertical-align: middle;\n",
       "    }\n",
       "\n",
       "    .dataframe tbody tr th {\n",
       "        vertical-align: top;\n",
       "    }\n",
       "\n",
       "    .dataframe thead th {\n",
       "        text-align: right;\n",
       "    }\n",
       "</style>\n",
       "<table border=\"1\" class=\"dataframe\">\n",
       "  <thead>\n",
       "    <tr style=\"text-align: right;\">\n",
       "      <th></th>\n",
       "      <th>Model Class</th>\n",
       "      <th>Accuracy</th>\n",
       "      <th>F1-score</th>\n",
       "      <th>Threshold</th>\n",
       "      <th>Parameters</th>\n",
       "      <th>Log Loss</th>\n",
       "    </tr>\n",
       "  </thead>\n",
       "  <tbody>\n",
       "    <tr>\n",
       "      <th>7</th>\n",
       "      <td>XGBoost</td>\n",
       "      <td>0.508417</td>\n",
       "      <td>[0.49080708 0.52484897]</td>\n",
       "      <td>None</td>\n",
       "      <td>{'booster': 'gbtree', 'colsample_bytree': 0.8,...</td>\n",
       "      <td>0.693095</td>\n",
       "    </tr>\n",
       "    <tr>\n",
       "      <th>6</th>\n",
       "      <td>Support Vector Machines</td>\n",
       "      <td>0.498417</td>\n",
       "      <td>[0.29823948 0.6097387 ]</td>\n",
       "      <td>None</td>\n",
       "      <td>None</td>\n",
       "      <td>0.693130</td>\n",
       "    </tr>\n",
       "    <tr>\n",
       "      <th>2</th>\n",
       "      <td>AdaBoost</td>\n",
       "      <td>0.5035</td>\n",
       "      <td>[0.56536329 0.42110377]</td>\n",
       "      <td>None</td>\n",
       "      <td>{'algorithm': 'SAMME.R', 'learning_rate': 0.00...</td>\n",
       "      <td>0.693167</td>\n",
       "    </tr>\n",
       "    <tr>\n",
       "      <th>1</th>\n",
       "      <td>Random Forest</td>\n",
       "      <td>0.499417</td>\n",
       "      <td>[0.50669295 0.49192252]</td>\n",
       "      <td>0.492929</td>\n",
       "      <td>{'max_depth': 10, 'min_samples_split': 4000, '...</td>\n",
       "      <td>0.693211</td>\n",
       "    </tr>\n",
       "    <tr>\n",
       "      <th>4</th>\n",
       "      <td>Logistic Regression</td>\n",
       "      <td>0.498833</td>\n",
       "      <td>[0.5024818  0.49513096]</td>\n",
       "      <td>0.488889</td>\n",
       "      <td>{'max_iter': 100, 'penalty': 'l2', 'solver': '...</td>\n",
       "      <td>0.693678</td>\n",
       "    </tr>\n",
       "    <tr>\n",
       "      <th>0</th>\n",
       "      <td>Decision Trees</td>\n",
       "      <td>0.501417</td>\n",
       "      <td>[0.51035273 0.49214837]</td>\n",
       "      <td>0.480808</td>\n",
       "      <td>{'max_depth': 10, 'min_samples_split': 5000}</td>\n",
       "      <td>0.694781</td>\n",
       "    </tr>\n",
       "    <tr>\n",
       "      <th>5</th>\n",
       "      <td>K Nearest Neighbour</td>\n",
       "      <td>0.500167</td>\n",
       "      <td>[0.50649992 0.49366875]</td>\n",
       "      <td>0.460606</td>\n",
       "      <td>{'n_neighbors': 100}</td>\n",
       "      <td>0.697797</td>\n",
       "    </tr>\n",
       "    <tr>\n",
       "      <th>3</th>\n",
       "      <td>Gaussian Naive Bayes</td>\n",
       "      <td>0.499667</td>\n",
       "      <td>[0.36919521 0.58541638]</td>\n",
       "      <td>None</td>\n",
       "      <td>None</td>\n",
       "      <td>0.705982</td>\n",
       "    </tr>\n",
       "  </tbody>\n",
       "</table>\n",
       "</div>"
      ],
      "text/plain": [
       "               Model Class  Accuracy                 F1-score Threshold  \\\n",
       "7                  XGBoost  0.508417  [0.49080708 0.52484897]      None   \n",
       "6  Support Vector Machines  0.498417  [0.29823948 0.6097387 ]      None   \n",
       "2                 AdaBoost    0.5035  [0.56536329 0.42110377]      None   \n",
       "1            Random Forest  0.499417  [0.50669295 0.49192252]  0.492929   \n",
       "4      Logistic Regression  0.498833  [0.5024818  0.49513096]  0.488889   \n",
       "0           Decision Trees  0.501417  [0.51035273 0.49214837]  0.480808   \n",
       "5      K Nearest Neighbour  0.500167  [0.50649992 0.49366875]  0.460606   \n",
       "3     Gaussian Naive Bayes  0.499667  [0.36919521 0.58541638]      None   \n",
       "\n",
       "                                          Parameters  Log Loss  \n",
       "7  {'booster': 'gbtree', 'colsample_bytree': 0.8,...  0.693095  \n",
       "6                                               None  0.693130  \n",
       "2  {'algorithm': 'SAMME.R', 'learning_rate': 0.00...  0.693167  \n",
       "1  {'max_depth': 10, 'min_samples_split': 4000, '...  0.693211  \n",
       "4  {'max_iter': 100, 'penalty': 'l2', 'solver': '...  0.693678  \n",
       "0       {'max_depth': 10, 'min_samples_split': 5000}  0.694781  \n",
       "5                               {'n_neighbors': 100}  0.697797  \n",
       "3                                               None  0.705982  "
      ]
     },
     "execution_count": 201,
     "metadata": {},
     "output_type": "execute_result"
    }
   ],
   "source": [
    "# sorting models in ascending order wrt Log Loss\n",
    "models_df.sort_values('Log Loss')"
   ]
  },
  {
   "cell_type": "code",
   "execution_count": 203,
   "id": "dc994e3f",
   "metadata": {},
   "outputs": [
    {
     "data": {
      "text/html": [
       "<div>\n",
       "<style scoped>\n",
       "    .dataframe tbody tr th:only-of-type {\n",
       "        vertical-align: middle;\n",
       "    }\n",
       "\n",
       "    .dataframe tbody tr th {\n",
       "        vertical-align: top;\n",
       "    }\n",
       "\n",
       "    .dataframe thead th {\n",
       "        text-align: right;\n",
       "    }\n",
       "</style>\n",
       "<table border=\"1\" class=\"dataframe\">\n",
       "  <thead>\n",
       "    <tr style=\"text-align: right;\">\n",
       "      <th></th>\n",
       "      <th>Model Class</th>\n",
       "      <th>Accuracy</th>\n",
       "      <th>F1-score</th>\n",
       "      <th>Threshold</th>\n",
       "      <th>Parameters</th>\n",
       "      <th>Log Loss</th>\n",
       "    </tr>\n",
       "  </thead>\n",
       "  <tbody>\n",
       "    <tr>\n",
       "      <th>7</th>\n",
       "      <td>XGBoost</td>\n",
       "      <td>0.508417</td>\n",
       "      <td>[0.49080708 0.52484897]</td>\n",
       "      <td>None</td>\n",
       "      <td>{'booster': 'gbtree', 'colsample_bytree': 0.8,...</td>\n",
       "      <td>0.693095</td>\n",
       "    </tr>\n",
       "    <tr>\n",
       "      <th>2</th>\n",
       "      <td>AdaBoost</td>\n",
       "      <td>0.5035</td>\n",
       "      <td>[0.56536329 0.42110377]</td>\n",
       "      <td>None</td>\n",
       "      <td>{'algorithm': 'SAMME.R', 'learning_rate': 0.00...</td>\n",
       "      <td>0.693167</td>\n",
       "    </tr>\n",
       "    <tr>\n",
       "      <th>0</th>\n",
       "      <td>Decision Trees</td>\n",
       "      <td>0.501417</td>\n",
       "      <td>[0.51035273 0.49214837]</td>\n",
       "      <td>0.480808</td>\n",
       "      <td>{'max_depth': 10, 'min_samples_split': 5000}</td>\n",
       "      <td>0.694781</td>\n",
       "    </tr>\n",
       "    <tr>\n",
       "      <th>5</th>\n",
       "      <td>K Nearest Neighbour</td>\n",
       "      <td>0.500167</td>\n",
       "      <td>[0.50649992 0.49366875]</td>\n",
       "      <td>0.460606</td>\n",
       "      <td>{'n_neighbors': 100}</td>\n",
       "      <td>0.697797</td>\n",
       "    </tr>\n",
       "    <tr>\n",
       "      <th>3</th>\n",
       "      <td>Gaussian Naive Bayes</td>\n",
       "      <td>0.499667</td>\n",
       "      <td>[0.36919521 0.58541638]</td>\n",
       "      <td>None</td>\n",
       "      <td>None</td>\n",
       "      <td>0.705982</td>\n",
       "    </tr>\n",
       "    <tr>\n",
       "      <th>1</th>\n",
       "      <td>Random Forest</td>\n",
       "      <td>0.499417</td>\n",
       "      <td>[0.50669295 0.49192252]</td>\n",
       "      <td>0.492929</td>\n",
       "      <td>{'max_depth': 10, 'min_samples_split': 4000, '...</td>\n",
       "      <td>0.693211</td>\n",
       "    </tr>\n",
       "    <tr>\n",
       "      <th>4</th>\n",
       "      <td>Logistic Regression</td>\n",
       "      <td>0.498833</td>\n",
       "      <td>[0.5024818  0.49513096]</td>\n",
       "      <td>0.488889</td>\n",
       "      <td>{'max_iter': 100, 'penalty': 'l2', 'solver': '...</td>\n",
       "      <td>0.693678</td>\n",
       "    </tr>\n",
       "    <tr>\n",
       "      <th>6</th>\n",
       "      <td>Support Vector Machines</td>\n",
       "      <td>0.498417</td>\n",
       "      <td>[0.29823948 0.6097387 ]</td>\n",
       "      <td>None</td>\n",
       "      <td>None</td>\n",
       "      <td>0.693130</td>\n",
       "    </tr>\n",
       "  </tbody>\n",
       "</table>\n",
       "</div>"
      ],
      "text/plain": [
       "               Model Class  Accuracy                 F1-score Threshold  \\\n",
       "7                  XGBoost  0.508417  [0.49080708 0.52484897]      None   \n",
       "2                 AdaBoost    0.5035  [0.56536329 0.42110377]      None   \n",
       "0           Decision Trees  0.501417  [0.51035273 0.49214837]  0.480808   \n",
       "5      K Nearest Neighbour  0.500167  [0.50649992 0.49366875]  0.460606   \n",
       "3     Gaussian Naive Bayes  0.499667  [0.36919521 0.58541638]      None   \n",
       "1            Random Forest  0.499417  [0.50669295 0.49192252]  0.492929   \n",
       "4      Logistic Regression  0.498833  [0.5024818  0.49513096]  0.488889   \n",
       "6  Support Vector Machines  0.498417  [0.29823948 0.6097387 ]      None   \n",
       "\n",
       "                                          Parameters  Log Loss  \n",
       "7  {'booster': 'gbtree', 'colsample_bytree': 0.8,...  0.693095  \n",
       "2  {'algorithm': 'SAMME.R', 'learning_rate': 0.00...  0.693167  \n",
       "0       {'max_depth': 10, 'min_samples_split': 5000}  0.694781  \n",
       "5                               {'n_neighbors': 100}  0.697797  \n",
       "3                                               None  0.705982  \n",
       "1  {'max_depth': 10, 'min_samples_split': 4000, '...  0.693211  \n",
       "4  {'max_iter': 100, 'penalty': 'l2', 'solver': '...  0.693678  \n",
       "6                                               None  0.693130  "
      ]
     },
     "execution_count": 203,
     "metadata": {},
     "output_type": "execute_result"
    }
   ],
   "source": [
    "# sorting model in the descending order of accuracies\n",
    "models_df.sort_values('Accuracy', ascending=False)"
   ]
  },
  {
   "cell_type": "markdown",
   "id": "49d6c981",
   "metadata": {},
   "source": [
    "### `Inference`:\n",
    "- Doing both we could see that the `XGBoost` model is giving the least log loss and also the most accuracy out of these models. \n",
    "- Closely, followed by `AdaBoost`."
   ]
  },
  {
   "cell_type": "markdown",
   "id": "da236344",
   "metadata": {},
   "source": [
    "Let's see the parameters that gives the best log loss for our `XGBoost` model."
   ]
  },
  {
   "cell_type": "code",
   "execution_count": 222,
   "id": "46f4efe3",
   "metadata": {},
   "outputs": [
    {
     "name": "stdout",
     "output_type": "stream",
     "text": [
      "{'booster': 'gbtree', 'colsample_bytree': 0.8, 'learning_rate': 0.001, 'max_depth': 10, 'reg_alpha': 1, 'reg_lambda': 0}\n"
     ]
    }
   ],
   "source": [
    "print(models_df[models_df['Model Class'] == 'XGBoost']['Parameters'].values[0])"
   ]
  },
  {
   "cell_type": "markdown",
   "id": "829f2acd",
   "metadata": {},
   "source": [
    "# The End"
   ]
  }
 ],
 "metadata": {
  "kernelspec": {
   "display_name": "Python 3 (ipykernel)",
   "language": "python",
   "name": "python3"
  },
  "language_info": {
   "codemirror_mode": {
    "name": "ipython",
    "version": 3
   },
   "file_extension": ".py",
   "mimetype": "text/x-python",
   "name": "python",
   "nbconvert_exporter": "python",
   "pygments_lexer": "ipython3",
   "version": "3.8.13"
  }
 },
 "nbformat": 4,
 "nbformat_minor": 5
}
